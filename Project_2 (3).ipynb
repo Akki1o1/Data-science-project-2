{
 "cells": [
  {
   "cell_type": "code",
   "execution_count": 1,
   "id": "2bc5b96f",
   "metadata": {},
   "outputs": [],
   "source": [
    "import matplotlib.pyplot as plt\n",
    "import numpy as np\n",
    "import pandas as pd\n",
    "import seaborn as sns\n",
    "from sklearn.preprocessing import LabelEncoder\n",
    "from sklearn.preprocessing import StandardScaler\n",
    "from scipy import stats\n",
    "import math as mt\n",
    "from math import sqrt\n",
    "from sklearn.feature_selection import SelectKBest\n",
    "from sklearn.feature_selection import chi2"
   ]
  },
  {
   "cell_type": "code",
   "execution_count": 2,
   "id": "d23d8f2d",
   "metadata": {},
   "outputs": [],
   "source": [
    "# reading csv files\n",
    "data1 = pd.read_csv('C:/Users/akhilesh rai/OneDrive/Desktop/Project/Proj2_Test.csv', header=0)\n",
    "data2 = pd.read_csv('C:/Users/akhilesh rai/OneDrive/Desktop/Project/Proj2_Train.csv', header=0)"
   ]
  },
  {
   "cell_type": "code",
   "execution_count": 3,
   "id": "c37413cf",
   "metadata": {},
   "outputs": [
    {
     "data": {
      "text/html": [
       "<div>\n",
       "<style scoped>\n",
       "    .dataframe tbody tr th:only-of-type {\n",
       "        vertical-align: middle;\n",
       "    }\n",
       "\n",
       "    .dataframe tbody tr th {\n",
       "        vertical-align: top;\n",
       "    }\n",
       "\n",
       "    .dataframe thead th {\n",
       "        text-align: right;\n",
       "    }\n",
       "</style>\n",
       "<table border=\"1\" class=\"dataframe\">\n",
       "  <thead>\n",
       "    <tr style=\"text-align: right;\">\n",
       "      <th></th>\n",
       "      <th>Sl No</th>\n",
       "      <th>Sample ID</th>\n",
       "      <th>Age</th>\n",
       "      <th>Ob_Score</th>\n",
       "      <th>BMI</th>\n",
       "      <th>Consistency_Score</th>\n",
       "      <th>Position_Score</th>\n",
       "      <th>Effacement_Score</th>\n",
       "      <th>Dialation_Score</th>\n",
       "      <th>Station_Score</th>\n",
       "      <th>Total_Bishop_Score</th>\n",
       "      <th>Cerv_Len_cms</th>\n",
       "      <th>Cerv_Wid_cms</th>\n",
       "      <th>Induction</th>\n",
       "      <th>Del_mode</th>\n",
       "    </tr>\n",
       "  </thead>\n",
       "  <tbody>\n",
       "    <tr>\n",
       "      <th>0</th>\n",
       "      <td>1</td>\n",
       "      <td>D1</td>\n",
       "      <td>21</td>\n",
       "      <td>G1</td>\n",
       "      <td>30.4</td>\n",
       "      <td>2</td>\n",
       "      <td>0</td>\n",
       "      <td>1</td>\n",
       "      <td>1</td>\n",
       "      <td>0</td>\n",
       "      <td>4</td>\n",
       "      <td>NaN</td>\n",
       "      <td>NaN</td>\n",
       "      <td>1</td>\n",
       "      <td>1</td>\n",
       "    </tr>\n",
       "    <tr>\n",
       "      <th>1</th>\n",
       "      <td>2</td>\n",
       "      <td>D2</td>\n",
       "      <td>24</td>\n",
       "      <td>G1</td>\n",
       "      <td>23.5</td>\n",
       "      <td>2</td>\n",
       "      <td>1</td>\n",
       "      <td>1</td>\n",
       "      <td>1</td>\n",
       "      <td>0</td>\n",
       "      <td>5</td>\n",
       "      <td>NaN</td>\n",
       "      <td>NaN</td>\n",
       "      <td>1</td>\n",
       "      <td>0</td>\n",
       "    </tr>\n",
       "    <tr>\n",
       "      <th>2</th>\n",
       "      <td>3</td>\n",
       "      <td>D3</td>\n",
       "      <td>23</td>\n",
       "      <td>G1</td>\n",
       "      <td>25.7</td>\n",
       "      <td>2</td>\n",
       "      <td>0</td>\n",
       "      <td>0</td>\n",
       "      <td>1</td>\n",
       "      <td>0</td>\n",
       "      <td>3</td>\n",
       "      <td>NaN</td>\n",
       "      <td>NaN</td>\n",
       "      <td>1</td>\n",
       "      <td>1</td>\n",
       "    </tr>\n",
       "    <tr>\n",
       "      <th>3</th>\n",
       "      <td>4</td>\n",
       "      <td>D4</td>\n",
       "      <td>20</td>\n",
       "      <td>G1</td>\n",
       "      <td>27.6</td>\n",
       "      <td>2</td>\n",
       "      <td>0</td>\n",
       "      <td>1</td>\n",
       "      <td>1</td>\n",
       "      <td>0</td>\n",
       "      <td>5</td>\n",
       "      <td>NaN</td>\n",
       "      <td>NaN</td>\n",
       "      <td>1</td>\n",
       "      <td>0</td>\n",
       "    </tr>\n",
       "    <tr>\n",
       "      <th>4</th>\n",
       "      <td>5</td>\n",
       "      <td>D5</td>\n",
       "      <td>25</td>\n",
       "      <td>G1</td>\n",
       "      <td>27.4</td>\n",
       "      <td>2</td>\n",
       "      <td>0</td>\n",
       "      <td>0</td>\n",
       "      <td>1</td>\n",
       "      <td>0</td>\n",
       "      <td>3</td>\n",
       "      <td>NaN</td>\n",
       "      <td>NaN</td>\n",
       "      <td>1</td>\n",
       "      <td>0</td>\n",
       "    </tr>\n",
       "  </tbody>\n",
       "</table>\n",
       "</div>"
      ],
      "text/plain": [
       "   Sl No Sample ID  Age Ob_Score   BMI  Consistency_Score  Position_Score  \\\n",
       "0      1        D1   21       G1  30.4                  2               0   \n",
       "1      2        D2   24       G1  23.5                  2               1   \n",
       "2      3        D3   23       G1  25.7                  2               0   \n",
       "3      4        D4   20       G1  27.6                  2               0   \n",
       "4      5        D5   25       G1  27.4                  2               0   \n",
       "\n",
       "   Effacement_Score  Dialation_Score  Station_Score  Total_Bishop_Score  \\\n",
       "0                 1                1              0                   4   \n",
       "1                 1                1              0                   5   \n",
       "2                 0                1              0                   3   \n",
       "3                 1                1              0                   5   \n",
       "4                 0                1              0                   3   \n",
       "\n",
       "   Cerv_Len_cms  Cerv_Wid_cms  Induction  Del_mode  \n",
       "0           NaN           NaN          1         1  \n",
       "1           NaN           NaN          1         0  \n",
       "2           NaN           NaN          1         1  \n",
       "3           NaN           NaN          1         0  \n",
       "4           NaN           NaN          1         0  "
      ]
     },
     "execution_count": 3,
     "metadata": {},
     "output_type": "execute_result"
    }
   ],
   "source": [
    "data1.head()"
   ]
  },
  {
   "cell_type": "code",
   "execution_count": 4,
   "id": "0e1fafa2",
   "metadata": {},
   "outputs": [
    {
     "data": {
      "text/html": [
       "<div>\n",
       "<style scoped>\n",
       "    .dataframe tbody tr th:only-of-type {\n",
       "        vertical-align: middle;\n",
       "    }\n",
       "\n",
       "    .dataframe tbody tr th {\n",
       "        vertical-align: top;\n",
       "    }\n",
       "\n",
       "    .dataframe thead th {\n",
       "        text-align: right;\n",
       "    }\n",
       "</style>\n",
       "<table border=\"1\" class=\"dataframe\">\n",
       "  <thead>\n",
       "    <tr style=\"text-align: right;\">\n",
       "      <th></th>\n",
       "      <th>Sl No</th>\n",
       "      <th>Sample ID</th>\n",
       "      <th>Age</th>\n",
       "      <th>Ob_Score</th>\n",
       "      <th>BMI</th>\n",
       "      <th>Consistency_Score</th>\n",
       "      <th>Position_Score</th>\n",
       "      <th>Effacement_Score</th>\n",
       "      <th>Dialation_Score</th>\n",
       "      <th>Station_Score</th>\n",
       "      <th>Total_Bishop_Score</th>\n",
       "      <th>Cerv_Len_cms</th>\n",
       "      <th>Cerv_Wid_cms</th>\n",
       "      <th>Induction</th>\n",
       "      <th>Del_mode</th>\n",
       "    </tr>\n",
       "  </thead>\n",
       "  <tbody>\n",
       "    <tr>\n",
       "      <th>0</th>\n",
       "      <td>1</td>\n",
       "      <td>DT1</td>\n",
       "      <td>20</td>\n",
       "      <td>G1</td>\n",
       "      <td>28.255713</td>\n",
       "      <td>2</td>\n",
       "      <td>0</td>\n",
       "      <td>0</td>\n",
       "      <td>1</td>\n",
       "      <td>0</td>\n",
       "      <td>3</td>\n",
       "      <td>NaN</td>\n",
       "      <td>NaN</td>\n",
       "      <td>1</td>\n",
       "      <td>1</td>\n",
       "    </tr>\n",
       "    <tr>\n",
       "      <th>1</th>\n",
       "      <td>2</td>\n",
       "      <td>DT2</td>\n",
       "      <td>21</td>\n",
       "      <td>G1</td>\n",
       "      <td>29.772191</td>\n",
       "      <td>2</td>\n",
       "      <td>0</td>\n",
       "      <td>1</td>\n",
       "      <td>1</td>\n",
       "      <td>0</td>\n",
       "      <td>4</td>\n",
       "      <td>NaN</td>\n",
       "      <td>NaN</td>\n",
       "      <td>1</td>\n",
       "      <td>1</td>\n",
       "    </tr>\n",
       "    <tr>\n",
       "      <th>2</th>\n",
       "      <td>3</td>\n",
       "      <td>DT3</td>\n",
       "      <td>21</td>\n",
       "      <td>G1</td>\n",
       "      <td>28.511248</td>\n",
       "      <td>2</td>\n",
       "      <td>0</td>\n",
       "      <td>1</td>\n",
       "      <td>1</td>\n",
       "      <td>0</td>\n",
       "      <td>4</td>\n",
       "      <td>NaN</td>\n",
       "      <td>NaN</td>\n",
       "      <td>1</td>\n",
       "      <td>1</td>\n",
       "    </tr>\n",
       "    <tr>\n",
       "      <th>3</th>\n",
       "      <td>4</td>\n",
       "      <td>DT4</td>\n",
       "      <td>22</td>\n",
       "      <td>G1</td>\n",
       "      <td>28.772695</td>\n",
       "      <td>2</td>\n",
       "      <td>0</td>\n",
       "      <td>1</td>\n",
       "      <td>1</td>\n",
       "      <td>0</td>\n",
       "      <td>4</td>\n",
       "      <td>NaN</td>\n",
       "      <td>NaN</td>\n",
       "      <td>1</td>\n",
       "      <td>1</td>\n",
       "    </tr>\n",
       "    <tr>\n",
       "      <th>4</th>\n",
       "      <td>5</td>\n",
       "      <td>DT5</td>\n",
       "      <td>22</td>\n",
       "      <td>G1</td>\n",
       "      <td>27.488918</td>\n",
       "      <td>2</td>\n",
       "      <td>0</td>\n",
       "      <td>0</td>\n",
       "      <td>1</td>\n",
       "      <td>0</td>\n",
       "      <td>3</td>\n",
       "      <td>NaN</td>\n",
       "      <td>NaN</td>\n",
       "      <td>1</td>\n",
       "      <td>1</td>\n",
       "    </tr>\n",
       "  </tbody>\n",
       "</table>\n",
       "</div>"
      ],
      "text/plain": [
       "   Sl No Sample ID  Age Ob_Score        BMI  Consistency_Score  \\\n",
       "0      1       DT1   20       G1  28.255713                  2   \n",
       "1      2       DT2   21       G1  29.772191                  2   \n",
       "2      3       DT3   21       G1  28.511248                  2   \n",
       "3      4       DT4   22       G1  28.772695                  2   \n",
       "4      5       DT5   22       G1  27.488918                  2   \n",
       "\n",
       "   Position_Score  Effacement_Score  Dialation_Score  Station_Score  \\\n",
       "0               0                 0                1              0   \n",
       "1               0                 1                1              0   \n",
       "2               0                 1                1              0   \n",
       "3               0                 1                1              0   \n",
       "4               0                 0                1              0   \n",
       "\n",
       "   Total_Bishop_Score  Cerv_Len_cms  Cerv_Wid_cms  Induction  Del_mode  \n",
       "0                   3           NaN           NaN          1         1  \n",
       "1                   4           NaN           NaN          1         1  \n",
       "2                   4           NaN           NaN          1         1  \n",
       "3                   4           NaN           NaN          1         1  \n",
       "4                   3           NaN           NaN          1         1  "
      ]
     },
     "execution_count": 4,
     "metadata": {},
     "output_type": "execute_result"
    }
   ],
   "source": [
    "data2.head()"
   ]
  },
  {
   "cell_type": "code",
   "execution_count": 5,
   "id": "e01da458",
   "metadata": {},
   "outputs": [],
   "source": [
    "data1 = data1.drop(columns = ['Sl No','Sample ID','Cerv_Len_cms','Cerv_Wid_cms','Consistency_Score'])"
   ]
  },
  {
   "cell_type": "code",
   "execution_count": 6,
   "id": "e0cf45ab",
   "metadata": {},
   "outputs": [],
   "source": [
    "data2 = data2.drop(columns = ['Sl No','Sample ID','Cerv_Len_cms','Cerv_Wid_cms','Consistency_Score'])"
   ]
  },
  {
   "cell_type": "code",
   "execution_count": 7,
   "id": "dfd418b1",
   "metadata": {},
   "outputs": [
    {
     "data": {
      "text/html": [
       "<div>\n",
       "<style scoped>\n",
       "    .dataframe tbody tr th:only-of-type {\n",
       "        vertical-align: middle;\n",
       "    }\n",
       "\n",
       "    .dataframe tbody tr th {\n",
       "        vertical-align: top;\n",
       "    }\n",
       "\n",
       "    .dataframe thead th {\n",
       "        text-align: right;\n",
       "    }\n",
       "</style>\n",
       "<table border=\"1\" class=\"dataframe\">\n",
       "  <thead>\n",
       "    <tr style=\"text-align: right;\">\n",
       "      <th></th>\n",
       "      <th>Age</th>\n",
       "      <th>Ob_Score</th>\n",
       "      <th>BMI</th>\n",
       "      <th>Position_Score</th>\n",
       "      <th>Effacement_Score</th>\n",
       "      <th>Dialation_Score</th>\n",
       "      <th>Station_Score</th>\n",
       "      <th>Total_Bishop_Score</th>\n",
       "      <th>Induction</th>\n",
       "      <th>Del_mode</th>\n",
       "    </tr>\n",
       "  </thead>\n",
       "  <tbody>\n",
       "    <tr>\n",
       "      <th>0</th>\n",
       "      <td>21</td>\n",
       "      <td>G1</td>\n",
       "      <td>30.4</td>\n",
       "      <td>0</td>\n",
       "      <td>1</td>\n",
       "      <td>1</td>\n",
       "      <td>0</td>\n",
       "      <td>4</td>\n",
       "      <td>1</td>\n",
       "      <td>1</td>\n",
       "    </tr>\n",
       "    <tr>\n",
       "      <th>1</th>\n",
       "      <td>24</td>\n",
       "      <td>G1</td>\n",
       "      <td>23.5</td>\n",
       "      <td>1</td>\n",
       "      <td>1</td>\n",
       "      <td>1</td>\n",
       "      <td>0</td>\n",
       "      <td>5</td>\n",
       "      <td>1</td>\n",
       "      <td>0</td>\n",
       "    </tr>\n",
       "    <tr>\n",
       "      <th>2</th>\n",
       "      <td>23</td>\n",
       "      <td>G1</td>\n",
       "      <td>25.7</td>\n",
       "      <td>0</td>\n",
       "      <td>0</td>\n",
       "      <td>1</td>\n",
       "      <td>0</td>\n",
       "      <td>3</td>\n",
       "      <td>1</td>\n",
       "      <td>1</td>\n",
       "    </tr>\n",
       "    <tr>\n",
       "      <th>3</th>\n",
       "      <td>20</td>\n",
       "      <td>G1</td>\n",
       "      <td>27.6</td>\n",
       "      <td>0</td>\n",
       "      <td>1</td>\n",
       "      <td>1</td>\n",
       "      <td>0</td>\n",
       "      <td>5</td>\n",
       "      <td>1</td>\n",
       "      <td>0</td>\n",
       "    </tr>\n",
       "    <tr>\n",
       "      <th>4</th>\n",
       "      <td>25</td>\n",
       "      <td>G1</td>\n",
       "      <td>27.4</td>\n",
       "      <td>0</td>\n",
       "      <td>0</td>\n",
       "      <td>1</td>\n",
       "      <td>0</td>\n",
       "      <td>3</td>\n",
       "      <td>1</td>\n",
       "      <td>0</td>\n",
       "    </tr>\n",
       "  </tbody>\n",
       "</table>\n",
       "</div>"
      ],
      "text/plain": [
       "   Age Ob_Score   BMI  Position_Score  Effacement_Score  Dialation_Score  \\\n",
       "0   21       G1  30.4               0                 1                1   \n",
       "1   24       G1  23.5               1                 1                1   \n",
       "2   23       G1  25.7               0                 0                1   \n",
       "3   20       G1  27.6               0                 1                1   \n",
       "4   25       G1  27.4               0                 0                1   \n",
       "\n",
       "   Station_Score  Total_Bishop_Score  Induction  Del_mode  \n",
       "0              0                   4          1         1  \n",
       "1              0                   5          1         0  \n",
       "2              0                   3          1         1  \n",
       "3              0                   5          1         0  \n",
       "4              0                   3          1         0  "
      ]
     },
     "execution_count": 7,
     "metadata": {},
     "output_type": "execute_result"
    }
   ],
   "source": [
    "data1.head()"
   ]
  },
  {
   "cell_type": "code",
   "execution_count": 8,
   "id": "f6f5a9c1",
   "metadata": {},
   "outputs": [
    {
     "data": {
      "text/html": [
       "<div>\n",
       "<style scoped>\n",
       "    .dataframe tbody tr th:only-of-type {\n",
       "        vertical-align: middle;\n",
       "    }\n",
       "\n",
       "    .dataframe tbody tr th {\n",
       "        vertical-align: top;\n",
       "    }\n",
       "\n",
       "    .dataframe thead th {\n",
       "        text-align: right;\n",
       "    }\n",
       "</style>\n",
       "<table border=\"1\" class=\"dataframe\">\n",
       "  <thead>\n",
       "    <tr style=\"text-align: right;\">\n",
       "      <th></th>\n",
       "      <th>Age</th>\n",
       "      <th>Ob_Score</th>\n",
       "      <th>BMI</th>\n",
       "      <th>Position_Score</th>\n",
       "      <th>Effacement_Score</th>\n",
       "      <th>Dialation_Score</th>\n",
       "      <th>Station_Score</th>\n",
       "      <th>Total_Bishop_Score</th>\n",
       "      <th>Induction</th>\n",
       "      <th>Del_mode</th>\n",
       "    </tr>\n",
       "  </thead>\n",
       "  <tbody>\n",
       "    <tr>\n",
       "      <th>0</th>\n",
       "      <td>20</td>\n",
       "      <td>G1</td>\n",
       "      <td>28.255713</td>\n",
       "      <td>0</td>\n",
       "      <td>0</td>\n",
       "      <td>1</td>\n",
       "      <td>0</td>\n",
       "      <td>3</td>\n",
       "      <td>1</td>\n",
       "      <td>1</td>\n",
       "    </tr>\n",
       "    <tr>\n",
       "      <th>1</th>\n",
       "      <td>21</td>\n",
       "      <td>G1</td>\n",
       "      <td>29.772191</td>\n",
       "      <td>0</td>\n",
       "      <td>1</td>\n",
       "      <td>1</td>\n",
       "      <td>0</td>\n",
       "      <td>4</td>\n",
       "      <td>1</td>\n",
       "      <td>1</td>\n",
       "    </tr>\n",
       "    <tr>\n",
       "      <th>2</th>\n",
       "      <td>21</td>\n",
       "      <td>G1</td>\n",
       "      <td>28.511248</td>\n",
       "      <td>0</td>\n",
       "      <td>1</td>\n",
       "      <td>1</td>\n",
       "      <td>0</td>\n",
       "      <td>4</td>\n",
       "      <td>1</td>\n",
       "      <td>1</td>\n",
       "    </tr>\n",
       "    <tr>\n",
       "      <th>3</th>\n",
       "      <td>22</td>\n",
       "      <td>G1</td>\n",
       "      <td>28.772695</td>\n",
       "      <td>0</td>\n",
       "      <td>1</td>\n",
       "      <td>1</td>\n",
       "      <td>0</td>\n",
       "      <td>4</td>\n",
       "      <td>1</td>\n",
       "      <td>1</td>\n",
       "    </tr>\n",
       "    <tr>\n",
       "      <th>4</th>\n",
       "      <td>22</td>\n",
       "      <td>G1</td>\n",
       "      <td>27.488918</td>\n",
       "      <td>0</td>\n",
       "      <td>0</td>\n",
       "      <td>1</td>\n",
       "      <td>0</td>\n",
       "      <td>3</td>\n",
       "      <td>1</td>\n",
       "      <td>1</td>\n",
       "    </tr>\n",
       "  </tbody>\n",
       "</table>\n",
       "</div>"
      ],
      "text/plain": [
       "   Age Ob_Score        BMI  Position_Score  Effacement_Score  Dialation_Score  \\\n",
       "0   20       G1  28.255713               0                 0                1   \n",
       "1   21       G1  29.772191               0                 1                1   \n",
       "2   21       G1  28.511248               0                 1                1   \n",
       "3   22       G1  28.772695               0                 1                1   \n",
       "4   22       G1  27.488918               0                 0                1   \n",
       "\n",
       "   Station_Score  Total_Bishop_Score  Induction  Del_mode  \n",
       "0              0                   3          1         1  \n",
       "1              0                   4          1         1  \n",
       "2              0                   4          1         1  \n",
       "3              0                   4          1         1  \n",
       "4              0                   3          1         1  "
      ]
     },
     "execution_count": 8,
     "metadata": {},
     "output_type": "execute_result"
    }
   ],
   "source": [
    "data2.head()"
   ]
  },
  {
   "cell_type": "code",
   "execution_count": 9,
   "id": "40ecc3ef",
   "metadata": {},
   "outputs": [
    {
     "data": {
      "text/plain": [
       "(1000, 10)"
      ]
     },
     "execution_count": 9,
     "metadata": {},
     "output_type": "execute_result"
    }
   ],
   "source": [
    "data1.shape\n",
    "data2.shape"
   ]
  },
  {
   "cell_type": "code",
   "execution_count": 10,
   "id": "6ef5630e",
   "metadata": {},
   "outputs": [],
   "source": [
    "df=pd.concat([data1,data2],axis=0)"
   ]
  },
  {
   "cell_type": "code",
   "execution_count": 11,
   "id": "171eafe4",
   "metadata": {},
   "outputs": [
    {
     "data": {
      "text/plain": [
       "(1100, 10)"
      ]
     },
     "execution_count": 11,
     "metadata": {},
     "output_type": "execute_result"
    }
   ],
   "source": [
    "df.shape"
   ]
  },
  {
   "cell_type": "code",
   "execution_count": 12,
   "id": "99d9c8b5",
   "metadata": {},
   "outputs": [
    {
     "data": {
      "text/html": [
       "<div>\n",
       "<style scoped>\n",
       "    .dataframe tbody tr th:only-of-type {\n",
       "        vertical-align: middle;\n",
       "    }\n",
       "\n",
       "    .dataframe tbody tr th {\n",
       "        vertical-align: top;\n",
       "    }\n",
       "\n",
       "    .dataframe thead th {\n",
       "        text-align: right;\n",
       "    }\n",
       "</style>\n",
       "<table border=\"1\" class=\"dataframe\">\n",
       "  <thead>\n",
       "    <tr style=\"text-align: right;\">\n",
       "      <th></th>\n",
       "      <th>Age</th>\n",
       "      <th>Ob_Score</th>\n",
       "      <th>BMI</th>\n",
       "      <th>Position_Score</th>\n",
       "      <th>Effacement_Score</th>\n",
       "      <th>Dialation_Score</th>\n",
       "      <th>Station_Score</th>\n",
       "      <th>Total_Bishop_Score</th>\n",
       "      <th>Induction</th>\n",
       "      <th>Del_mode</th>\n",
       "    </tr>\n",
       "  </thead>\n",
       "  <tbody>\n",
       "    <tr>\n",
       "      <th>0</th>\n",
       "      <td>21</td>\n",
       "      <td>G1</td>\n",
       "      <td>30.4</td>\n",
       "      <td>0</td>\n",
       "      <td>1</td>\n",
       "      <td>1</td>\n",
       "      <td>0</td>\n",
       "      <td>4</td>\n",
       "      <td>1</td>\n",
       "      <td>1</td>\n",
       "    </tr>\n",
       "    <tr>\n",
       "      <th>1</th>\n",
       "      <td>24</td>\n",
       "      <td>G1</td>\n",
       "      <td>23.5</td>\n",
       "      <td>1</td>\n",
       "      <td>1</td>\n",
       "      <td>1</td>\n",
       "      <td>0</td>\n",
       "      <td>5</td>\n",
       "      <td>1</td>\n",
       "      <td>0</td>\n",
       "    </tr>\n",
       "    <tr>\n",
       "      <th>2</th>\n",
       "      <td>23</td>\n",
       "      <td>G1</td>\n",
       "      <td>25.7</td>\n",
       "      <td>0</td>\n",
       "      <td>0</td>\n",
       "      <td>1</td>\n",
       "      <td>0</td>\n",
       "      <td>3</td>\n",
       "      <td>1</td>\n",
       "      <td>1</td>\n",
       "    </tr>\n",
       "    <tr>\n",
       "      <th>3</th>\n",
       "      <td>20</td>\n",
       "      <td>G1</td>\n",
       "      <td>27.6</td>\n",
       "      <td>0</td>\n",
       "      <td>1</td>\n",
       "      <td>1</td>\n",
       "      <td>0</td>\n",
       "      <td>5</td>\n",
       "      <td>1</td>\n",
       "      <td>0</td>\n",
       "    </tr>\n",
       "    <tr>\n",
       "      <th>4</th>\n",
       "      <td>25</td>\n",
       "      <td>G1</td>\n",
       "      <td>27.4</td>\n",
       "      <td>0</td>\n",
       "      <td>0</td>\n",
       "      <td>1</td>\n",
       "      <td>0</td>\n",
       "      <td>3</td>\n",
       "      <td>1</td>\n",
       "      <td>0</td>\n",
       "    </tr>\n",
       "  </tbody>\n",
       "</table>\n",
       "</div>"
      ],
      "text/plain": [
       "   Age Ob_Score   BMI  Position_Score  Effacement_Score  Dialation_Score  \\\n",
       "0   21       G1  30.4               0                 1                1   \n",
       "1   24       G1  23.5               1                 1                1   \n",
       "2   23       G1  25.7               0                 0                1   \n",
       "3   20       G1  27.6               0                 1                1   \n",
       "4   25       G1  27.4               0                 0                1   \n",
       "\n",
       "   Station_Score  Total_Bishop_Score  Induction  Del_mode  \n",
       "0              0                   4          1         1  \n",
       "1              0                   5          1         0  \n",
       "2              0                   3          1         1  \n",
       "3              0                   5          1         0  \n",
       "4              0                   3          1         0  "
      ]
     },
     "execution_count": 12,
     "metadata": {},
     "output_type": "execute_result"
    }
   ],
   "source": [
    "df.head()"
   ]
  },
  {
   "cell_type": "code",
   "execution_count": 13,
   "id": "080e8969",
   "metadata": {},
   "outputs": [
    {
     "name": "stdout",
     "output_type": "stream",
     "text": [
      "<class 'pandas.core.frame.DataFrame'>\n",
      "Int64Index: 1100 entries, 0 to 999\n",
      "Data columns (total 10 columns):\n",
      " #   Column              Non-Null Count  Dtype  \n",
      "---  ------              --------------  -----  \n",
      " 0   Age                 1100 non-null   int64  \n",
      " 1   Ob_Score            1100 non-null   object \n",
      " 2   BMI                 1100 non-null   float64\n",
      " 3   Position_Score      1100 non-null   int64  \n",
      " 4   Effacement_Score    1100 non-null   int64  \n",
      " 5   Dialation_Score     1100 non-null   int64  \n",
      " 6   Station_Score       1100 non-null   int64  \n",
      " 7   Total_Bishop_Score  1100 non-null   int64  \n",
      " 8   Induction           1100 non-null   int64  \n",
      " 9   Del_mode            1100 non-null   int64  \n",
      "dtypes: float64(1), int64(8), object(1)\n",
      "memory usage: 94.5+ KB\n"
     ]
    }
   ],
   "source": [
    "df.info()"
   ]
  },
  {
   "cell_type": "code",
   "execution_count": 14,
   "id": "08dd1f3d",
   "metadata": {},
   "outputs": [],
   "source": [
    "df= df.drop_duplicates()"
   ]
  },
  {
   "cell_type": "code",
   "execution_count": 15,
   "id": "ac751035",
   "metadata": {},
   "outputs": [
    {
     "data": {
      "text/plain": [
       "(1091, 10)"
      ]
     },
     "execution_count": 15,
     "metadata": {},
     "output_type": "execute_result"
    }
   ],
   "source": [
    "df.shape"
   ]
  },
  {
   "cell_type": "code",
   "execution_count": 16,
   "id": "15a8a1f6",
   "metadata": {},
   "outputs": [
    {
     "data": {
      "text/html": [
       "<div>\n",
       "<style scoped>\n",
       "    .dataframe tbody tr th:only-of-type {\n",
       "        vertical-align: middle;\n",
       "    }\n",
       "\n",
       "    .dataframe tbody tr th {\n",
       "        vertical-align: top;\n",
       "    }\n",
       "\n",
       "    .dataframe thead th {\n",
       "        text-align: right;\n",
       "    }\n",
       "</style>\n",
       "<table border=\"1\" class=\"dataframe\">\n",
       "  <thead>\n",
       "    <tr style=\"text-align: right;\">\n",
       "      <th></th>\n",
       "      <th>Age</th>\n",
       "      <th>BMI</th>\n",
       "      <th>Position_Score</th>\n",
       "      <th>Effacement_Score</th>\n",
       "      <th>Dialation_Score</th>\n",
       "      <th>Station_Score</th>\n",
       "      <th>Total_Bishop_Score</th>\n",
       "      <th>Induction</th>\n",
       "      <th>Del_mode</th>\n",
       "    </tr>\n",
       "  </thead>\n",
       "  <tbody>\n",
       "    <tr>\n",
       "      <th>count</th>\n",
       "      <td>1091.000000</td>\n",
       "      <td>1091.000000</td>\n",
       "      <td>1091.000000</td>\n",
       "      <td>1091.000000</td>\n",
       "      <td>1091.000000</td>\n",
       "      <td>1091.000000</td>\n",
       "      <td>1091.000000</td>\n",
       "      <td>1091.000000</td>\n",
       "      <td>1091.000000</td>\n",
       "    </tr>\n",
       "    <tr>\n",
       "      <th>mean</th>\n",
       "      <td>23.056829</td>\n",
       "      <td>26.663327</td>\n",
       "      <td>0.513291</td>\n",
       "      <td>0.431714</td>\n",
       "      <td>0.470211</td>\n",
       "      <td>0.241063</td>\n",
       "      <td>3.659945</td>\n",
       "      <td>0.939505</td>\n",
       "      <td>0.316224</td>\n",
       "    </tr>\n",
       "    <tr>\n",
       "      <th>std</th>\n",
       "      <td>2.321514</td>\n",
       "      <td>2.537739</td>\n",
       "      <td>0.500053</td>\n",
       "      <td>0.506529</td>\n",
       "      <td>0.499341</td>\n",
       "      <td>0.436416</td>\n",
       "      <td>1.127976</td>\n",
       "      <td>0.238511</td>\n",
       "      <td>0.465215</td>\n",
       "    </tr>\n",
       "    <tr>\n",
       "      <th>min</th>\n",
       "      <td>18.000000</td>\n",
       "      <td>19.800000</td>\n",
       "      <td>0.000000</td>\n",
       "      <td>0.000000</td>\n",
       "      <td>0.000000</td>\n",
       "      <td>0.000000</td>\n",
       "      <td>2.000000</td>\n",
       "      <td>0.000000</td>\n",
       "      <td>0.000000</td>\n",
       "    </tr>\n",
       "    <tr>\n",
       "      <th>25%</th>\n",
       "      <td>21.000000</td>\n",
       "      <td>24.815561</td>\n",
       "      <td>0.000000</td>\n",
       "      <td>0.000000</td>\n",
       "      <td>0.000000</td>\n",
       "      <td>0.000000</td>\n",
       "      <td>3.000000</td>\n",
       "      <td>1.000000</td>\n",
       "      <td>0.000000</td>\n",
       "    </tr>\n",
       "    <tr>\n",
       "      <th>50%</th>\n",
       "      <td>23.000000</td>\n",
       "      <td>26.600000</td>\n",
       "      <td>1.000000</td>\n",
       "      <td>0.000000</td>\n",
       "      <td>0.000000</td>\n",
       "      <td>0.000000</td>\n",
       "      <td>4.000000</td>\n",
       "      <td>1.000000</td>\n",
       "      <td>0.000000</td>\n",
       "    </tr>\n",
       "    <tr>\n",
       "      <th>75%</th>\n",
       "      <td>25.000000</td>\n",
       "      <td>28.619877</td>\n",
       "      <td>1.000000</td>\n",
       "      <td>1.000000</td>\n",
       "      <td>1.000000</td>\n",
       "      <td>0.000000</td>\n",
       "      <td>4.000000</td>\n",
       "      <td>1.000000</td>\n",
       "      <td>1.000000</td>\n",
       "    </tr>\n",
       "    <tr>\n",
       "      <th>max</th>\n",
       "      <td>32.000000</td>\n",
       "      <td>32.900000</td>\n",
       "      <td>1.000000</td>\n",
       "      <td>2.000000</td>\n",
       "      <td>1.000000</td>\n",
       "      <td>2.000000</td>\n",
       "      <td>7.000000</td>\n",
       "      <td>1.000000</td>\n",
       "      <td>1.000000</td>\n",
       "    </tr>\n",
       "  </tbody>\n",
       "</table>\n",
       "</div>"
      ],
      "text/plain": [
       "               Age          BMI  Position_Score  Effacement_Score  \\\n",
       "count  1091.000000  1091.000000     1091.000000       1091.000000   \n",
       "mean     23.056829    26.663327        0.513291          0.431714   \n",
       "std       2.321514     2.537739        0.500053          0.506529   \n",
       "min      18.000000    19.800000        0.000000          0.000000   \n",
       "25%      21.000000    24.815561        0.000000          0.000000   \n",
       "50%      23.000000    26.600000        1.000000          0.000000   \n",
       "75%      25.000000    28.619877        1.000000          1.000000   \n",
       "max      32.000000    32.900000        1.000000          2.000000   \n",
       "\n",
       "       Dialation_Score  Station_Score  Total_Bishop_Score    Induction  \\\n",
       "count      1091.000000    1091.000000         1091.000000  1091.000000   \n",
       "mean          0.470211       0.241063            3.659945     0.939505   \n",
       "std           0.499341       0.436416            1.127976     0.238511   \n",
       "min           0.000000       0.000000            2.000000     0.000000   \n",
       "25%           0.000000       0.000000            3.000000     1.000000   \n",
       "50%           0.000000       0.000000            4.000000     1.000000   \n",
       "75%           1.000000       0.000000            4.000000     1.000000   \n",
       "max           1.000000       2.000000            7.000000     1.000000   \n",
       "\n",
       "          Del_mode  \n",
       "count  1091.000000  \n",
       "mean      0.316224  \n",
       "std       0.465215  \n",
       "min       0.000000  \n",
       "25%       0.000000  \n",
       "50%       0.000000  \n",
       "75%       1.000000  \n",
       "max       1.000000  "
      ]
     },
     "execution_count": 16,
     "metadata": {},
     "output_type": "execute_result"
    }
   ],
   "source": [
    "df.describe()"
   ]
  },
  {
   "cell_type": "code",
   "execution_count": 17,
   "id": "65ff4a92",
   "metadata": {},
   "outputs": [],
   "source": [
    "df_pi = df.copy()\n",
    "df_pi[\" \"] = np.where(df_pi['Del_mode'] == 1 ,  \"Normal\", \"Opration\")"
   ]
  },
  {
   "cell_type": "code",
   "execution_count": 18,
   "id": "cbe8af1d",
   "metadata": {},
   "outputs": [
    {
     "data": {
      "text/plain": [
       "<AxesSubplot:ylabel=' '>"
      ]
     },
     "execution_count": 18,
     "metadata": {},
     "output_type": "execute_result"
    },
    {
     "data": {
      "image/png": "[encoded data removed]",
      "text/plain": [
       "<Figure size 432x288 with 1 Axes>"
      ]
     },
     "metadata": {},
     "output_type": "display_data"
    }
   ],
   "source": [
    "df_pi[\" \"].value_counts().plot(kind=\"pie\")"
   ]
  },
  {
   "cell_type": "code",
   "execution_count": 19,
   "id": "bb86af08",
   "metadata": {},
   "outputs": [
    {
     "name": "stdout",
     "output_type": "stream",
     "text": [
      "Normal: 345\n",
      "Opration: 746\n"
     ]
    }
   ],
   "source": [
    "print(\"Normal: \" + str(len(df[df['Del_mode'] == 1])))\n",
    "print(\"Opration: \" + str(len(df[df['Del_mode'] == 0])))"
   ]
  },
  {
   "cell_type": "code",
   "execution_count": 20,
   "id": "39849845",
   "metadata": {},
   "outputs": [],
   "source": [
    "df_1 = pd.get_dummies(df, columns = ['Ob_Score'])"
   ]
  },
  {
   "cell_type": "code",
   "execution_count": 21,
   "id": "13d6357a",
   "metadata": {},
   "outputs": [
    {
     "data": {
      "text/html": [
       "<div>\n",
       "<style scoped>\n",
       "    .dataframe tbody tr th:only-of-type {\n",
       "        vertical-align: middle;\n",
       "    }\n",
       "\n",
       "    .dataframe tbody tr th {\n",
       "        vertical-align: top;\n",
       "    }\n",
       "\n",
       "    .dataframe thead th {\n",
       "        text-align: right;\n",
       "    }\n",
       "</style>\n",
       "<table border=\"1\" class=\"dataframe\">\n",
       "  <thead>\n",
       "    <tr style=\"text-align: right;\">\n",
       "      <th></th>\n",
       "      <th>Age</th>\n",
       "      <th>BMI</th>\n",
       "      <th>Position_Score</th>\n",
       "      <th>Effacement_Score</th>\n",
       "      <th>Dialation_Score</th>\n",
       "      <th>Station_Score</th>\n",
       "      <th>Total_Bishop_Score</th>\n",
       "      <th>Induction</th>\n",
       "      <th>Del_mode</th>\n",
       "      <th>Ob_Score_G1</th>\n",
       "      <th>Ob_Score_G2A1</th>\n",
       "      <th>Ob_Score_G3A2</th>\n",
       "    </tr>\n",
       "  </thead>\n",
       "  <tbody>\n",
       "    <tr>\n",
       "      <th>0</th>\n",
       "      <td>21</td>\n",
       "      <td>30.4</td>\n",
       "      <td>0</td>\n",
       "      <td>1</td>\n",
       "      <td>1</td>\n",
       "      <td>0</td>\n",
       "      <td>4</td>\n",
       "      <td>1</td>\n",
       "      <td>1</td>\n",
       "      <td>1</td>\n",
       "      <td>0</td>\n",
       "      <td>0</td>\n",
       "    </tr>\n",
       "    <tr>\n",
       "      <th>1</th>\n",
       "      <td>24</td>\n",
       "      <td>23.5</td>\n",
       "      <td>1</td>\n",
       "      <td>1</td>\n",
       "      <td>1</td>\n",
       "      <td>0</td>\n",
       "      <td>5</td>\n",
       "      <td>1</td>\n",
       "      <td>0</td>\n",
       "      <td>1</td>\n",
       "      <td>0</td>\n",
       "      <td>0</td>\n",
       "    </tr>\n",
       "    <tr>\n",
       "      <th>2</th>\n",
       "      <td>23</td>\n",
       "      <td>25.7</td>\n",
       "      <td>0</td>\n",
       "      <td>0</td>\n",
       "      <td>1</td>\n",
       "      <td>0</td>\n",
       "      <td>3</td>\n",
       "      <td>1</td>\n",
       "      <td>1</td>\n",
       "      <td>1</td>\n",
       "      <td>0</td>\n",
       "      <td>0</td>\n",
       "    </tr>\n",
       "    <tr>\n",
       "      <th>3</th>\n",
       "      <td>20</td>\n",
       "      <td>27.6</td>\n",
       "      <td>0</td>\n",
       "      <td>1</td>\n",
       "      <td>1</td>\n",
       "      <td>0</td>\n",
       "      <td>5</td>\n",
       "      <td>1</td>\n",
       "      <td>0</td>\n",
       "      <td>1</td>\n",
       "      <td>0</td>\n",
       "      <td>0</td>\n",
       "    </tr>\n",
       "    <tr>\n",
       "      <th>4</th>\n",
       "      <td>25</td>\n",
       "      <td>27.4</td>\n",
       "      <td>0</td>\n",
       "      <td>0</td>\n",
       "      <td>1</td>\n",
       "      <td>0</td>\n",
       "      <td>3</td>\n",
       "      <td>1</td>\n",
       "      <td>0</td>\n",
       "      <td>1</td>\n",
       "      <td>0</td>\n",
       "      <td>0</td>\n",
       "    </tr>\n",
       "  </tbody>\n",
       "</table>\n",
       "</div>"
      ],
      "text/plain": [
       "   Age   BMI  Position_Score  Effacement_Score  Dialation_Score  \\\n",
       "0   21  30.4               0                 1                1   \n",
       "1   24  23.5               1                 1                1   \n",
       "2   23  25.7               0                 0                1   \n",
       "3   20  27.6               0                 1                1   \n",
       "4   25  27.4               0                 0                1   \n",
       "\n",
       "   Station_Score  Total_Bishop_Score  Induction  Del_mode  Ob_Score_G1  \\\n",
       "0              0                   4          1         1            1   \n",
       "1              0                   5          1         0            1   \n",
       "2              0                   3          1         1            1   \n",
       "3              0                   5          1         0            1   \n",
       "4              0                   3          1         0            1   \n",
       "\n",
       "   Ob_Score_G2A1  Ob_Score_G3A2  \n",
       "0              0              0  \n",
       "1              0              0  \n",
       "2              0              0  \n",
       "3              0              0  \n",
       "4              0              0  "
      ]
     },
     "execution_count": 21,
     "metadata": {},
     "output_type": "execute_result"
    }
   ],
   "source": [
    "df_1.head()"
   ]
  },
  {
   "cell_type": "code",
   "execution_count": 22,
   "id": "63ff4fe4",
   "metadata": {},
   "outputs": [
    {
     "name": "stdout",
     "output_type": "stream",
     "text": [
      "<class 'pandas.core.frame.DataFrame'>\n",
      "Int64Index: 1091 entries, 0 to 999\n",
      "Data columns (total 12 columns):\n",
      " #   Column              Non-Null Count  Dtype  \n",
      "---  ------              --------------  -----  \n",
      " 0   Age                 1091 non-null   int64  \n",
      " 1   BMI                 1091 non-null   float64\n",
      " 2   Position_Score      1091 non-null   int64  \n",
      " 3   Effacement_Score    1091 non-null   int64  \n",
      " 4   Dialation_Score     1091 non-null   int64  \n",
      " 5   Station_Score       1091 non-null   int64  \n",
      " 6   Total_Bishop_Score  1091 non-null   int64  \n",
      " 7   Induction           1091 non-null   int64  \n",
      " 8   Del_mode            1091 non-null   int64  \n",
      " 9   Ob_Score_G1         1091 non-null   uint8  \n",
      " 10  Ob_Score_G2A1       1091 non-null   uint8  \n",
      " 11  Ob_Score_G3A2       1091 non-null   uint8  \n",
      "dtypes: float64(1), int64(8), uint8(3)\n",
      "memory usage: 88.4 KB\n"
     ]
    }
   ],
   "source": [
    "df_1.info()"
   ]
  },
  {
   "cell_type": "code",
   "execution_count": 23,
   "id": "1d1ea426",
   "metadata": {},
   "outputs": [
    {
     "data": {
      "text/html": [
       "<div>\n",
       "<style scoped>\n",
       "    .dataframe tbody tr th:only-of-type {\n",
       "        vertical-align: middle;\n",
       "    }\n",
       "\n",
       "    .dataframe tbody tr th {\n",
       "        vertical-align: top;\n",
       "    }\n",
       "\n",
       "    .dataframe thead th {\n",
       "        text-align: right;\n",
       "    }\n",
       "</style>\n",
       "<table border=\"1\" class=\"dataframe\">\n",
       "  <thead>\n",
       "    <tr style=\"text-align: right;\">\n",
       "      <th></th>\n",
       "      <th>Age</th>\n",
       "      <th>BMI</th>\n",
       "      <th>Position_Score</th>\n",
       "      <th>Effacement_Score</th>\n",
       "      <th>Dialation_Score</th>\n",
       "      <th>Station_Score</th>\n",
       "      <th>Total_Bishop_Score</th>\n",
       "      <th>Induction</th>\n",
       "      <th>Del_mode</th>\n",
       "      <th>Ob_Score_G1</th>\n",
       "      <th>Ob_Score_G2A1</th>\n",
       "      <th>Ob_Score_G3A2</th>\n",
       "    </tr>\n",
       "  </thead>\n",
       "  <tbody>\n",
       "    <tr>\n",
       "      <th>count</th>\n",
       "      <td>1091.000000</td>\n",
       "      <td>1091.000000</td>\n",
       "      <td>1091.000000</td>\n",
       "      <td>1091.000000</td>\n",
       "      <td>1091.000000</td>\n",
       "      <td>1091.000000</td>\n",
       "      <td>1091.000000</td>\n",
       "      <td>1091.000000</td>\n",
       "      <td>1091.000000</td>\n",
       "      <td>1091.000000</td>\n",
       "      <td>1091.000000</td>\n",
       "      <td>1091.000000</td>\n",
       "    </tr>\n",
       "    <tr>\n",
       "      <th>mean</th>\n",
       "      <td>23.056829</td>\n",
       "      <td>26.663327</td>\n",
       "      <td>0.513291</td>\n",
       "      <td>0.431714</td>\n",
       "      <td>0.470211</td>\n",
       "      <td>0.241063</td>\n",
       "      <td>3.659945</td>\n",
       "      <td>0.939505</td>\n",
       "      <td>0.316224</td>\n",
       "      <td>0.939505</td>\n",
       "      <td>0.040330</td>\n",
       "      <td>0.020165</td>\n",
       "    </tr>\n",
       "    <tr>\n",
       "      <th>std</th>\n",
       "      <td>2.321514</td>\n",
       "      <td>2.537739</td>\n",
       "      <td>0.500053</td>\n",
       "      <td>0.506529</td>\n",
       "      <td>0.499341</td>\n",
       "      <td>0.436416</td>\n",
       "      <td>1.127976</td>\n",
       "      <td>0.238511</td>\n",
       "      <td>0.465215</td>\n",
       "      <td>0.238511</td>\n",
       "      <td>0.196822</td>\n",
       "      <td>0.140629</td>\n",
       "    </tr>\n",
       "    <tr>\n",
       "      <th>min</th>\n",
       "      <td>18.000000</td>\n",
       "      <td>19.800000</td>\n",
       "      <td>0.000000</td>\n",
       "      <td>0.000000</td>\n",
       "      <td>0.000000</td>\n",
       "      <td>0.000000</td>\n",
       "      <td>2.000000</td>\n",
       "      <td>0.000000</td>\n",
       "      <td>0.000000</td>\n",
       "      <td>0.000000</td>\n",
       "      <td>0.000000</td>\n",
       "      <td>0.000000</td>\n",
       "    </tr>\n",
       "    <tr>\n",
       "      <th>25%</th>\n",
       "      <td>21.000000</td>\n",
       "      <td>24.815561</td>\n",
       "      <td>0.000000</td>\n",
       "      <td>0.000000</td>\n",
       "      <td>0.000000</td>\n",
       "      <td>0.000000</td>\n",
       "      <td>3.000000</td>\n",
       "      <td>1.000000</td>\n",
       "      <td>0.000000</td>\n",
       "      <td>1.000000</td>\n",
       "      <td>0.000000</td>\n",
       "      <td>0.000000</td>\n",
       "    </tr>\n",
       "    <tr>\n",
       "      <th>50%</th>\n",
       "      <td>23.000000</td>\n",
       "      <td>26.600000</td>\n",
       "      <td>1.000000</td>\n",
       "      <td>0.000000</td>\n",
       "      <td>0.000000</td>\n",
       "      <td>0.000000</td>\n",
       "      <td>4.000000</td>\n",
       "      <td>1.000000</td>\n",
       "      <td>0.000000</td>\n",
       "      <td>1.000000</td>\n",
       "      <td>0.000000</td>\n",
       "      <td>0.000000</td>\n",
       "    </tr>\n",
       "    <tr>\n",
       "      <th>75%</th>\n",
       "      <td>25.000000</td>\n",
       "      <td>28.619877</td>\n",
       "      <td>1.000000</td>\n",
       "      <td>1.000000</td>\n",
       "      <td>1.000000</td>\n",
       "      <td>0.000000</td>\n",
       "      <td>4.000000</td>\n",
       "      <td>1.000000</td>\n",
       "      <td>1.000000</td>\n",
       "      <td>1.000000</td>\n",
       "      <td>0.000000</td>\n",
       "      <td>0.000000</td>\n",
       "    </tr>\n",
       "    <tr>\n",
       "      <th>max</th>\n",
       "      <td>32.000000</td>\n",
       "      <td>32.900000</td>\n",
       "      <td>1.000000</td>\n",
       "      <td>2.000000</td>\n",
       "      <td>1.000000</td>\n",
       "      <td>2.000000</td>\n",
       "      <td>7.000000</td>\n",
       "      <td>1.000000</td>\n",
       "      <td>1.000000</td>\n",
       "      <td>1.000000</td>\n",
       "      <td>1.000000</td>\n",
       "      <td>1.000000</td>\n",
       "    </tr>\n",
       "  </tbody>\n",
       "</table>\n",
       "</div>"
      ],
      "text/plain": [
       "               Age          BMI  Position_Score  Effacement_Score  \\\n",
       "count  1091.000000  1091.000000     1091.000000       1091.000000   \n",
       "mean     23.056829    26.663327        0.513291          0.431714   \n",
       "std       2.321514     2.537739        0.500053          0.506529   \n",
       "min      18.000000    19.800000        0.000000          0.000000   \n",
       "25%      21.000000    24.815561        0.000000          0.000000   \n",
       "50%      23.000000    26.600000        1.000000          0.000000   \n",
       "75%      25.000000    28.619877        1.000000          1.000000   \n",
       "max      32.000000    32.900000        1.000000          2.000000   \n",
       "\n",
       "       Dialation_Score  Station_Score  Total_Bishop_Score    Induction  \\\n",
       "count      1091.000000    1091.000000         1091.000000  1091.000000   \n",
       "mean          0.470211       0.241063            3.659945     0.939505   \n",
       "std           0.499341       0.436416            1.127976     0.238511   \n",
       "min           0.000000       0.000000            2.000000     0.000000   \n",
       "25%           0.000000       0.000000            3.000000     1.000000   \n",
       "50%           0.000000       0.000000            4.000000     1.000000   \n",
       "75%           1.000000       0.000000            4.000000     1.000000   \n",
       "max           1.000000       2.000000            7.000000     1.000000   \n",
       "\n",
       "          Del_mode  Ob_Score_G1  Ob_Score_G2A1  Ob_Score_G3A2  \n",
       "count  1091.000000  1091.000000    1091.000000    1091.000000  \n",
       "mean      0.316224     0.939505       0.040330       0.020165  \n",
       "std       0.465215     0.238511       0.196822       0.140629  \n",
       "min       0.000000     0.000000       0.000000       0.000000  \n",
       "25%       0.000000     1.000000       0.000000       0.000000  \n",
       "50%       0.000000     1.000000       0.000000       0.000000  \n",
       "75%       1.000000     1.000000       0.000000       0.000000  \n",
       "max       1.000000     1.000000       1.000000       1.000000  "
      ]
     },
     "execution_count": 23,
     "metadata": {},
     "output_type": "execute_result"
    }
   ],
   "source": [
    "df_1.describe()"
   ]
  },
  {
   "cell_type": "code",
   "execution_count": 24,
   "id": "9fce6da4",
   "metadata": {},
   "outputs": [],
   "source": [
    "x = df_1.drop(\"Del_mode\",axis = 1)\n",
    "y= df_1[\"Del_mode\"]\n",
    "bestfeatures = SelectKBest(score_func = chi2,k=7)\n",
    "fit =bestfeatures.fit(x,y)"
   ]
  },
  {
   "cell_type": "code",
   "execution_count": 25,
   "id": "fae87fbd",
   "metadata": {},
   "outputs": [
    {
     "data": {
      "text/html": [
       "<div>\n",
       "<style scoped>\n",
       "    .dataframe tbody tr th:only-of-type {\n",
       "        vertical-align: middle;\n",
       "    }\n",
       "\n",
       "    .dataframe tbody tr th {\n",
       "        vertical-align: top;\n",
       "    }\n",
       "\n",
       "    .dataframe thead th {\n",
       "        text-align: right;\n",
       "    }\n",
       "</style>\n",
       "<table border=\"1\" class=\"dataframe\">\n",
       "  <thead>\n",
       "    <tr style=\"text-align: right;\">\n",
       "      <th></th>\n",
       "      <th>fetaures</th>\n",
       "      <th>scores</th>\n",
       "    </tr>\n",
       "  </thead>\n",
       "  <tbody>\n",
       "    <tr>\n",
       "      <th>2</th>\n",
       "      <td>Position_Score</td>\n",
       "      <td>40.565489</td>\n",
       "    </tr>\n",
       "    <tr>\n",
       "      <th>9</th>\n",
       "      <td>Ob_Score_G2A1</td>\n",
       "      <td>38.289174</td>\n",
       "    </tr>\n",
       "    <tr>\n",
       "      <th>6</th>\n",
       "      <td>Total_Bishop_Score</td>\n",
       "      <td>16.589866</td>\n",
       "    </tr>\n",
       "    <tr>\n",
       "      <th>10</th>\n",
       "      <td>Ob_Score_G3A2</td>\n",
       "      <td>10.174263</td>\n",
       "    </tr>\n",
       "    <tr>\n",
       "      <th>1</th>\n",
       "      <td>BMI</td>\n",
       "      <td>9.293062</td>\n",
       "    </tr>\n",
       "    <tr>\n",
       "      <th>7</th>\n",
       "      <td>Induction</td>\n",
       "      <td>9.189328</td>\n",
       "    </tr>\n",
       "    <tr>\n",
       "      <th>3</th>\n",
       "      <td>Effacement_Score</td>\n",
       "      <td>8.224469</td>\n",
       "    </tr>\n",
       "    <tr>\n",
       "      <th>0</th>\n",
       "      <td>Age</td>\n",
       "      <td>6.470831</td>\n",
       "    </tr>\n",
       "    <tr>\n",
       "      <th>5</th>\n",
       "      <td>Station_Score</td>\n",
       "      <td>5.803549</td>\n",
       "    </tr>\n",
       "    <tr>\n",
       "      <th>8</th>\n",
       "      <td>Ob_Score_G1</td>\n",
       "      <td>0.663796</td>\n",
       "    </tr>\n",
       "    <tr>\n",
       "      <th>4</th>\n",
       "      <td>Dialation_Score</td>\n",
       "      <td>0.044540</td>\n",
       "    </tr>\n",
       "  </tbody>\n",
       "</table>\n",
       "</div>"
      ],
      "text/plain": [
       "              fetaures     scores\n",
       "2       Position_Score  40.565489\n",
       "9        Ob_Score_G2A1  38.289174\n",
       "6   Total_Bishop_Score  16.589866\n",
       "10       Ob_Score_G3A2  10.174263\n",
       "1                  BMI   9.293062\n",
       "7            Induction   9.189328\n",
       "3     Effacement_Score   8.224469\n",
       "0                  Age   6.470831\n",
       "5        Station_Score   5.803549\n",
       "8          Ob_Score_G1   0.663796\n",
       "4      Dialation_Score   0.044540"
      ]
     },
     "execution_count": 25,
     "metadata": {},
     "output_type": "execute_result"
    }
   ],
   "source": [
    "feature_scores = pd.concat([pd.DataFrame(x.columns),pd.DataFrame(fit.scores_)],axis = 1)\n",
    "feature_scores.columns = [\"fetaures\",\"scores\"]\n",
    "feature_scores.sort_values(by = 'scores',ascending = False)"
   ]
  },
  {
   "cell_type": "code",
   "execution_count": 26,
   "id": "c80e82cf",
   "metadata": {},
   "outputs": [
    {
     "data": {
      "text/html": [
       "<div>\n",
       "<style scoped>\n",
       "    .dataframe tbody tr th:only-of-type {\n",
       "        vertical-align: middle;\n",
       "    }\n",
       "\n",
       "    .dataframe tbody tr th {\n",
       "        vertical-align: top;\n",
       "    }\n",
       "\n",
       "    .dataframe thead th {\n",
       "        text-align: right;\n",
       "    }\n",
       "</style>\n",
       "<table border=\"1\" class=\"dataframe\">\n",
       "  <thead>\n",
       "    <tr style=\"text-align: right;\">\n",
       "      <th></th>\n",
       "      <th>fetaures</th>\n",
       "      <th>scores</th>\n",
       "    </tr>\n",
       "  </thead>\n",
       "  <tbody>\n",
       "    <tr>\n",
       "      <th>2</th>\n",
       "      <td>Position_Score</td>\n",
       "      <td>40.565489</td>\n",
       "    </tr>\n",
       "    <tr>\n",
       "      <th>9</th>\n",
       "      <td>Ob_Score_G2A1</td>\n",
       "      <td>38.289174</td>\n",
       "    </tr>\n",
       "    <tr>\n",
       "      <th>6</th>\n",
       "      <td>Total_Bishop_Score</td>\n",
       "      <td>16.589866</td>\n",
       "    </tr>\n",
       "    <tr>\n",
       "      <th>10</th>\n",
       "      <td>Ob_Score_G3A2</td>\n",
       "      <td>10.174263</td>\n",
       "    </tr>\n",
       "    <tr>\n",
       "      <th>1</th>\n",
       "      <td>BMI</td>\n",
       "      <td>9.293062</td>\n",
       "    </tr>\n",
       "  </tbody>\n",
       "</table>\n",
       "</div>"
      ],
      "text/plain": [
       "              fetaures     scores\n",
       "2       Position_Score  40.565489\n",
       "9        Ob_Score_G2A1  38.289174\n",
       "6   Total_Bishop_Score  16.589866\n",
       "10       Ob_Score_G3A2  10.174263\n",
       "1                  BMI   9.293062"
      ]
     },
     "execution_count": 26,
     "metadata": {},
     "output_type": "execute_result"
    }
   ],
   "source": [
    "feature_scores.nlargest(5,'scores')"
   ]
  },
  {
   "cell_type": "code",
   "execution_count": 27,
   "id": "b018b8c9",
   "metadata": {},
   "outputs": [
    {
     "data": {
      "image/png": "[encoded data removed]",
      "text/plain": [
       "<Figure size 864x720 with 2 Axes>"
      ]
     },
     "metadata": {
      "needs_background": "light"
     },
     "output_type": "display_data"
    }
   ],
   "source": [
    "plt.figure(figsize = (12,10))\n",
    "sns.heatmap(df_1.corr(), annot = True, cmap = plt.cm.CMRmap_r)\n",
    "plt.show()"
   ]
  },
  {
   "cell_type": "code",
   "execution_count": 28,
   "id": "3ae4ff3c",
   "metadata": {},
   "outputs": [
    {
     "name": "stderr",
     "output_type": "stream",
     "text": [
      "C:\\Users\\akhilesh rai\\anaconda3\\lib\\site-packages\\seaborn\\distributions.py:2619: FutureWarning: `distplot` is a deprecated function and will be removed in a future version. Please adapt your code to use either `displot` (a figure-level function with similar flexibility) or `histplot` (an axes-level function for histograms).\n",
      "  warnings.warn(msg, FutureWarning)\n",
      "C:\\Users\\akhilesh rai\\anaconda3\\lib\\site-packages\\seaborn\\distributions.py:2619: FutureWarning: `distplot` is a deprecated function and will be removed in a future version. Please adapt your code to use either `displot` (a figure-level function with similar flexibility) or `histplot` (an axes-level function for histograms).\n",
      "  warnings.warn(msg, FutureWarning)\n",
      "C:\\Users\\akhilesh rai\\anaconda3\\lib\\site-packages\\seaborn\\distributions.py:2619: FutureWarning: `distplot` is a deprecated function and will be removed in a future version. Please adapt your code to use either `displot` (a figure-level function with similar flexibility) or `histplot` (an axes-level function for histograms).\n",
      "  warnings.warn(msg, FutureWarning)\n",
      "C:\\Users\\akhilesh rai\\anaconda3\\lib\\site-packages\\seaborn\\distributions.py:2619: FutureWarning: `distplot` is a deprecated function and will be removed in a future version. Please adapt your code to use either `displot` (a figure-level function with similar flexibility) or `histplot` (an axes-level function for histograms).\n",
      "  warnings.warn(msg, FutureWarning)\n",
      "C:\\Users\\akhilesh rai\\anaconda3\\lib\\site-packages\\seaborn\\distributions.py:2619: FutureWarning: `distplot` is a deprecated function and will be removed in a future version. Please adapt your code to use either `displot` (a figure-level function with similar flexibility) or `histplot` (an axes-level function for histograms).\n",
      "  warnings.warn(msg, FutureWarning)\n",
      "C:\\Users\\akhilesh rai\\anaconda3\\lib\\site-packages\\seaborn\\distributions.py:2619: FutureWarning: `distplot` is a deprecated function and will be removed in a future version. Please adapt your code to use either `displot` (a figure-level function with similar flexibility) or `histplot` (an axes-level function for histograms).\n",
      "  warnings.warn(msg, FutureWarning)\n"
     ]
    },
    {
     "data": {
      "image/png": "[encoded data removed]",
      "text/plain": [
       "<Figure size 1152x504 with 6 Axes>"
      ]
     },
     "metadata": {},
     "output_type": "display_data"
    }
   ],
   "source": [
    "sns.set_style('darkgrid',{'axes.edgecolor': '.9'},)\n",
    "f, ax = plt.subplots(2,3,figsize = (16,7))\n",
    "plt.rcParams[\"patch.force_edgecolor\"] = True\n",
    "vis1 = sns.distplot(df_1[\"Age\"],bins=10,color='mediumturquoise',\n",
    "hist_kws=dict(edgecolor=\"magenta\",linewidth=2.5),ax= ax[0][0])\n",
    "vis2 = sns.distplot(df_1[\"BMI\"],bins=10,color='mediumturquoise', hist_kws=dict(edgecolor=\"magenta\",linewidth=2.5),ax=ax[0][1])\n",
    "vis3 = sns.distplot(df_1[\"Position_Score\"],bins=10,color='mediumturquoise', hist_kws=dict(edgecolor=\"magenta\", linewidth=2.5),ax=ax[0][2])\n",
    "vis4 = sns.distplot(df_1[\"Total_Bishop_Score\"],bins=10,color='mediumturquoise', hist_kws=dict(edgecolor=\"magenta\", linewidth=2.5), ax=ax[1][0])\n",
    "vis5 =sns.distplot(df_1[\"Ob_Score_G2A1\"],bins=10,color='mediumturquoise', hist_kws=dict(edgecolor=\"magenta\", linewidth=2.5),ax=ax[1][1])\n",
    "vis6 =sns.distplot(df_1[\"Ob_Score_G3A2\"],bins=10,color='mediumturquoise', hist_kws=dict(edgecolor=\"magenta\", linewidth=2.5),ax=ax[1][2])"
   ]
  },
  {
   "cell_type": "code",
   "execution_count": 29,
   "id": "04c1af43",
   "metadata": {},
   "outputs": [
    {
     "name": "stderr",
     "output_type": "stream",
     "text": [
      "C:\\Users\\akhilesh rai\\anaconda3\\lib\\site-packages\\seaborn\\distributions.py:2619: FutureWarning: `distplot` is a deprecated function and will be removed in a future version. Please adapt your code to use either `displot` (a figure-level function with similar flexibility) or `histplot` (an axes-level function for histograms).\n",
      "  warnings.warn(msg, FutureWarning)\n",
      "C:\\Users\\akhilesh rai\\anaconda3\\lib\\site-packages\\seaborn\\distributions.py:2619: FutureWarning: `distplot` is a deprecated function and will be removed in a future version. Please adapt your code to use either `displot` (a figure-level function with similar flexibility) or `histplot` (an axes-level function for histograms).\n",
      "  warnings.warn(msg, FutureWarning)\n",
      "C:\\Users\\akhilesh rai\\anaconda3\\lib\\site-packages\\seaborn\\distributions.py:2619: FutureWarning: `distplot` is a deprecated function and will be removed in a future version. Please adapt your code to use either `displot` (a figure-level function with similar flexibility) or `histplot` (an axes-level function for histograms).\n",
      "  warnings.warn(msg, FutureWarning)\n",
      "C:\\Users\\akhilesh rai\\anaconda3\\lib\\site-packages\\seaborn\\distributions.py:2619: FutureWarning: `distplot` is a deprecated function and will be removed in a future version. Please adapt your code to use either `displot` (a figure-level function with similar flexibility) or `histplot` (an axes-level function for histograms).\n",
      "  warnings.warn(msg, FutureWarning)\n",
      "C:\\Users\\akhilesh rai\\anaconda3\\lib\\site-packages\\seaborn\\distributions.py:2619: FutureWarning: `distplot` is a deprecated function and will be removed in a future version. Please adapt your code to use either `displot` (a figure-level function with similar flexibility) or `histplot` (an axes-level function for histograms).\n",
      "  warnings.warn(msg, FutureWarning)\n"
     ]
    },
    {
     "data": {
      "image/png": "[encoded data removed]",
      "text/plain": [
       "<Figure size 1152x504 with 6 Axes>"
      ]
     },
     "metadata": {},
     "output_type": "display_data"
    }
   ],
   "source": [
    "sns.set_style('darkgrid',{'axes.edgecolor': '.9'},)\n",
    "f, ax = plt.subplots(2,3,figsize = (16,7))\n",
    "plt.rcParams[\"patch.force_edgecolor\"] = True\n",
    "vis1 = sns.distplot(df_1[\"Induction\"],bins=10,color='mediumturquoise',\n",
    "hist_kws=dict(edgecolor=\"magenta\",linewidth=2.5),ax= ax[0][0])\n",
    "vis2 = sns.distplot(df_1[\"Ob_Score_G1\"],bins=10,color='mediumturquoise', hist_kws=dict(edgecolor=\"magenta\",linewidth=2.5),ax=ax[0][1])\n",
    "vis3 = sns.distplot(df_1[\"Station_Score\"],bins=10,color='mediumturquoise', hist_kws=dict(edgecolor=\"magenta\", linewidth=2.5),ax=ax[0][2])\n",
    "vis4 = sns.distplot(df_1[\"Dialation_Score\"],bins=10,color='mediumturquoise', hist_kws=dict(edgecolor=\"magenta\", linewidth=2.5), ax=ax[1][0])\n",
    "vis5 =sns.distplot(df_1[\"Effacement_Score\"],bins=10,color='mediumturquoise', hist_kws=dict(edgecolor=\"magenta\", linewidth=2.5),ax=ax[1][1])"
   ]
  },
  {
   "cell_type": "code",
   "execution_count": 30,
   "id": "2edaf1c9",
   "metadata": {},
   "outputs": [
    {
     "data": {
      "text/plain": [
       "(1091, 12)"
      ]
     },
     "execution_count": 30,
     "metadata": {},
     "output_type": "execute_result"
    }
   ],
   "source": [
    "df_1.shape"
   ]
  },
  {
   "cell_type": "code",
   "execution_count": 31,
   "id": "a6efe2de",
   "metadata": {},
   "outputs": [
    {
     "data": {
      "text/plain": [
       "(array([ 0,  1,  2,  3,  4,  5,  6,  7,  8,  9, 10, 11]),\n",
       " [Text(0, 0, 'Age'),\n",
       "  Text(1, 0, 'BMI'),\n",
       "  Text(2, 0, 'Position_Score'),\n",
       "  Text(3, 0, 'Effacement_Score'),\n",
       "  Text(4, 0, 'Dialation_Score'),\n",
       "  Text(5, 0, 'Station_Score'),\n",
       "  Text(6, 0, 'Total_Bishop_Score'),\n",
       "  Text(7, 0, 'Induction'),\n",
       "  Text(8, 0, 'Del_mode'),\n",
       "  Text(9, 0, 'Ob_Score_G1'),\n",
       "  Text(10, 0, 'Ob_Score_G2A1'),\n",
       "  Text(11, 0, 'Ob_Score_G3A2')])"
      ]
     },
     "execution_count": 31,
     "metadata": {},
     "output_type": "execute_result"
    },
    {
     "data": {
      "image/png": "[encoded data removed]",
      "text/plain": [
       "<Figure size 1440x1440 with 1 Axes>"
      ]
     },
     "metadata": {},
     "output_type": "display_data"
    }
   ],
   "source": [
    "plt.figure(figsize=(20,20)) \n",
    "sns.boxplot(data=df_1)\n",
    "plt.xticks(rotation=90)"
   ]
  },
  {
   "cell_type": "code",
   "execution_count": 32,
   "id": "aedc569d",
   "metadata": {},
   "outputs": [
    {
     "data": {
      "text/html": [
       "<div>\n",
       "<style scoped>\n",
       "    .dataframe tbody tr th:only-of-type {\n",
       "        vertical-align: middle;\n",
       "    }\n",
       "\n",
       "    .dataframe tbody tr th {\n",
       "        vertical-align: top;\n",
       "    }\n",
       "\n",
       "    .dataframe thead th {\n",
       "        text-align: right;\n",
       "    }\n",
       "</style>\n",
       "<table border=\"1\" class=\"dataframe\">\n",
       "  <thead>\n",
       "    <tr style=\"text-align: right;\">\n",
       "      <th></th>\n",
       "      <th>Age</th>\n",
       "      <th>BMI</th>\n",
       "      <th>Position_Score</th>\n",
       "      <th>Effacement_Score</th>\n",
       "      <th>Dialation_Score</th>\n",
       "      <th>Station_Score</th>\n",
       "      <th>Total_Bishop_Score</th>\n",
       "      <th>Induction</th>\n",
       "      <th>Del_mode</th>\n",
       "      <th>Ob_Score_G1</th>\n",
       "      <th>Ob_Score_G2A1</th>\n",
       "      <th>Ob_Score_G3A2</th>\n",
       "    </tr>\n",
       "  </thead>\n",
       "  <tbody>\n",
       "    <tr>\n",
       "      <th>0.25</th>\n",
       "      <td>21.0</td>\n",
       "      <td>24.815561</td>\n",
       "      <td>0.0</td>\n",
       "      <td>0.0</td>\n",
       "      <td>0.0</td>\n",
       "      <td>0.0</td>\n",
       "      <td>3.0</td>\n",
       "      <td>1.0</td>\n",
       "      <td>0.0</td>\n",
       "      <td>1.0</td>\n",
       "      <td>0.0</td>\n",
       "      <td>0.0</td>\n",
       "    </tr>\n",
       "    <tr>\n",
       "      <th>0.50</th>\n",
       "      <td>23.0</td>\n",
       "      <td>26.600000</td>\n",
       "      <td>1.0</td>\n",
       "      <td>0.0</td>\n",
       "      <td>0.0</td>\n",
       "      <td>0.0</td>\n",
       "      <td>4.0</td>\n",
       "      <td>1.0</td>\n",
       "      <td>0.0</td>\n",
       "      <td>1.0</td>\n",
       "      <td>0.0</td>\n",
       "      <td>0.0</td>\n",
       "    </tr>\n",
       "    <tr>\n",
       "      <th>0.75</th>\n",
       "      <td>25.0</td>\n",
       "      <td>28.619877</td>\n",
       "      <td>1.0</td>\n",
       "      <td>1.0</td>\n",
       "      <td>1.0</td>\n",
       "      <td>0.0</td>\n",
       "      <td>4.0</td>\n",
       "      <td>1.0</td>\n",
       "      <td>1.0</td>\n",
       "      <td>1.0</td>\n",
       "      <td>0.0</td>\n",
       "      <td>0.0</td>\n",
       "    </tr>\n",
       "  </tbody>\n",
       "</table>\n",
       "</div>"
      ],
      "text/plain": [
       "       Age        BMI  Position_Score  Effacement_Score  Dialation_Score  \\\n",
       "0.25  21.0  24.815561             0.0               0.0              0.0   \n",
       "0.50  23.0  26.600000             1.0               0.0              0.0   \n",
       "0.75  25.0  28.619877             1.0               1.0              1.0   \n",
       "\n",
       "      Station_Score  Total_Bishop_Score  Induction  Del_mode  Ob_Score_G1  \\\n",
       "0.25            0.0                 3.0        1.0       0.0          1.0   \n",
       "0.50            0.0                 4.0        1.0       0.0          1.0   \n",
       "0.75            0.0                 4.0        1.0       1.0          1.0   \n",
       "\n",
       "      Ob_Score_G2A1  Ob_Score_G3A2  \n",
       "0.25            0.0            0.0  \n",
       "0.50            0.0            0.0  \n",
       "0.75            0.0            0.0  "
      ]
     },
     "execution_count": 32,
     "metadata": {},
     "output_type": "execute_result"
    }
   ],
   "source": [
    "df_1.quantile([.25,.5,.75],axis = 0)"
   ]
  },
  {
   "cell_type": "code",
   "execution_count": 33,
   "id": "fd2c75f7",
   "metadata": {},
   "outputs": [
    {
     "data": {
      "text/html": [
       "<div>\n",
       "<style scoped>\n",
       "    .dataframe tbody tr th:only-of-type {\n",
       "        vertical-align: middle;\n",
       "    }\n",
       "\n",
       "    .dataframe tbody tr th {\n",
       "        vertical-align: top;\n",
       "    }\n",
       "\n",
       "    .dataframe thead th {\n",
       "        text-align: right;\n",
       "    }\n",
       "</style>\n",
       "<table border=\"1\" class=\"dataframe\">\n",
       "  <thead>\n",
       "    <tr style=\"text-align: right;\">\n",
       "      <th></th>\n",
       "      <th>Age</th>\n",
       "      <th>BMI</th>\n",
       "      <th>Position_Score</th>\n",
       "      <th>Effacement_Score</th>\n",
       "      <th>Dialation_Score</th>\n",
       "      <th>Station_Score</th>\n",
       "      <th>Total_Bishop_Score</th>\n",
       "      <th>Induction</th>\n",
       "      <th>Del_mode</th>\n",
       "      <th>Ob_Score_G1</th>\n",
       "      <th>Ob_Score_G2A1</th>\n",
       "      <th>Ob_Score_G3A2</th>\n",
       "    </tr>\n",
       "  </thead>\n",
       "  <tbody>\n",
       "    <tr>\n",
       "      <th>count</th>\n",
       "      <td>1091.000000</td>\n",
       "      <td>1091.000000</td>\n",
       "      <td>1091.000000</td>\n",
       "      <td>1091.000000</td>\n",
       "      <td>1091.000000</td>\n",
       "      <td>1091.000000</td>\n",
       "      <td>1091.000000</td>\n",
       "      <td>1091.000000</td>\n",
       "      <td>1091.000000</td>\n",
       "      <td>1091.000000</td>\n",
       "      <td>1091.000000</td>\n",
       "      <td>1091.000000</td>\n",
       "    </tr>\n",
       "    <tr>\n",
       "      <th>mean</th>\n",
       "      <td>23.056829</td>\n",
       "      <td>26.663327</td>\n",
       "      <td>0.513291</td>\n",
       "      <td>0.431714</td>\n",
       "      <td>0.470211</td>\n",
       "      <td>0.241063</td>\n",
       "      <td>3.659945</td>\n",
       "      <td>0.939505</td>\n",
       "      <td>0.316224</td>\n",
       "      <td>0.939505</td>\n",
       "      <td>0.040330</td>\n",
       "      <td>0.020165</td>\n",
       "    </tr>\n",
       "    <tr>\n",
       "      <th>std</th>\n",
       "      <td>2.321514</td>\n",
       "      <td>2.537739</td>\n",
       "      <td>0.500053</td>\n",
       "      <td>0.506529</td>\n",
       "      <td>0.499341</td>\n",
       "      <td>0.436416</td>\n",
       "      <td>1.127976</td>\n",
       "      <td>0.238511</td>\n",
       "      <td>0.465215</td>\n",
       "      <td>0.238511</td>\n",
       "      <td>0.196822</td>\n",
       "      <td>0.140629</td>\n",
       "    </tr>\n",
       "    <tr>\n",
       "      <th>min</th>\n",
       "      <td>18.000000</td>\n",
       "      <td>19.800000</td>\n",
       "      <td>0.000000</td>\n",
       "      <td>0.000000</td>\n",
       "      <td>0.000000</td>\n",
       "      <td>0.000000</td>\n",
       "      <td>2.000000</td>\n",
       "      <td>0.000000</td>\n",
       "      <td>0.000000</td>\n",
       "      <td>0.000000</td>\n",
       "      <td>0.000000</td>\n",
       "      <td>0.000000</td>\n",
       "    </tr>\n",
       "    <tr>\n",
       "      <th>25%</th>\n",
       "      <td>21.000000</td>\n",
       "      <td>24.815561</td>\n",
       "      <td>0.000000</td>\n",
       "      <td>0.000000</td>\n",
       "      <td>0.000000</td>\n",
       "      <td>0.000000</td>\n",
       "      <td>3.000000</td>\n",
       "      <td>1.000000</td>\n",
       "      <td>0.000000</td>\n",
       "      <td>1.000000</td>\n",
       "      <td>0.000000</td>\n",
       "      <td>0.000000</td>\n",
       "    </tr>\n",
       "    <tr>\n",
       "      <th>50%</th>\n",
       "      <td>23.000000</td>\n",
       "      <td>26.600000</td>\n",
       "      <td>1.000000</td>\n",
       "      <td>0.000000</td>\n",
       "      <td>0.000000</td>\n",
       "      <td>0.000000</td>\n",
       "      <td>4.000000</td>\n",
       "      <td>1.000000</td>\n",
       "      <td>0.000000</td>\n",
       "      <td>1.000000</td>\n",
       "      <td>0.000000</td>\n",
       "      <td>0.000000</td>\n",
       "    </tr>\n",
       "    <tr>\n",
       "      <th>75%</th>\n",
       "      <td>25.000000</td>\n",
       "      <td>28.619877</td>\n",
       "      <td>1.000000</td>\n",
       "      <td>1.000000</td>\n",
       "      <td>1.000000</td>\n",
       "      <td>0.000000</td>\n",
       "      <td>4.000000</td>\n",
       "      <td>1.000000</td>\n",
       "      <td>1.000000</td>\n",
       "      <td>1.000000</td>\n",
       "      <td>0.000000</td>\n",
       "      <td>0.000000</td>\n",
       "    </tr>\n",
       "    <tr>\n",
       "      <th>max</th>\n",
       "      <td>32.000000</td>\n",
       "      <td>32.900000</td>\n",
       "      <td>1.000000</td>\n",
       "      <td>2.000000</td>\n",
       "      <td>1.000000</td>\n",
       "      <td>2.000000</td>\n",
       "      <td>7.000000</td>\n",
       "      <td>1.000000</td>\n",
       "      <td>1.000000</td>\n",
       "      <td>1.000000</td>\n",
       "      <td>1.000000</td>\n",
       "      <td>1.000000</td>\n",
       "    </tr>\n",
       "  </tbody>\n",
       "</table>\n",
       "</div>"
      ],
      "text/plain": [
       "               Age          BMI  Position_Score  Effacement_Score  \\\n",
       "count  1091.000000  1091.000000     1091.000000       1091.000000   \n",
       "mean     23.056829    26.663327        0.513291          0.431714   \n",
       "std       2.321514     2.537739        0.500053          0.506529   \n",
       "min      18.000000    19.800000        0.000000          0.000000   \n",
       "25%      21.000000    24.815561        0.000000          0.000000   \n",
       "50%      23.000000    26.600000        1.000000          0.000000   \n",
       "75%      25.000000    28.619877        1.000000          1.000000   \n",
       "max      32.000000    32.900000        1.000000          2.000000   \n",
       "\n",
       "       Dialation_Score  Station_Score  Total_Bishop_Score    Induction  \\\n",
       "count      1091.000000    1091.000000         1091.000000  1091.000000   \n",
       "mean          0.470211       0.241063            3.659945     0.939505   \n",
       "std           0.499341       0.436416            1.127976     0.238511   \n",
       "min           0.000000       0.000000            2.000000     0.000000   \n",
       "25%           0.000000       0.000000            3.000000     1.000000   \n",
       "50%           0.000000       0.000000            4.000000     1.000000   \n",
       "75%           1.000000       0.000000            4.000000     1.000000   \n",
       "max           1.000000       2.000000            7.000000     1.000000   \n",
       "\n",
       "          Del_mode  Ob_Score_G1  Ob_Score_G2A1  Ob_Score_G3A2  \n",
       "count  1091.000000  1091.000000    1091.000000    1091.000000  \n",
       "mean      0.316224     0.939505       0.040330       0.020165  \n",
       "std       0.465215     0.238511       0.196822       0.140629  \n",
       "min       0.000000     0.000000       0.000000       0.000000  \n",
       "25%       0.000000     1.000000       0.000000       0.000000  \n",
       "50%       0.000000     1.000000       0.000000       0.000000  \n",
       "75%       1.000000     1.000000       0.000000       0.000000  \n",
       "max       1.000000     1.000000       1.000000       1.000000  "
      ]
     },
     "execution_count": 33,
     "metadata": {},
     "output_type": "execute_result"
    }
   ],
   "source": [
    "df_1.describe()"
   ]
  },
  {
   "cell_type": "code",
   "execution_count": 34,
   "id": "69c1659f",
   "metadata": {},
   "outputs": [],
   "source": [
    "column = df_1.columns"
   ]
  },
  {
   "cell_type": "code",
   "execution_count": 35,
   "id": "30b47db2",
   "metadata": {},
   "outputs": [
    {
     "data": {
      "text/plain": [
       "Index(['Age', 'BMI', 'Position_Score', 'Effacement_Score', 'Dialation_Score',\n",
       "       'Station_Score', 'Total_Bishop_Score', 'Induction', 'Del_mode',\n",
       "       'Ob_Score_G1', 'Ob_Score_G2A1', 'Ob_Score_G3A2'],\n",
       "      dtype='object')"
      ]
     },
     "execution_count": 35,
     "metadata": {},
     "output_type": "execute_result"
    }
   ],
   "source": [
    "column"
   ]
  },
  {
   "cell_type": "code",
   "execution_count": 36,
   "id": "870ad48f",
   "metadata": {},
   "outputs": [],
   "source": [
    "IQR = df_1['BMI'].quantile(0.75) - df_1['BMI'].quantile(0.25)\n",
    "Upper_Limit = df_1['BMI'].quantile(0.75) + 1.5 * IQR\n",
    "Lower_Limit = df_1['BMI'].quantile(0.25) - 1.5 * IQR"
   ]
  },
  {
   "cell_type": "code",
   "execution_count": 37,
   "id": "22d3f727",
   "metadata": {},
   "outputs": [
    {
     "name": "stdout",
     "output_type": "stream",
     "text": [
      "IQR is: 3.804315585000001\n"
     ]
    }
   ],
   "source": [
    "print('IQR is:',IQR)"
   ]
  },
  {
   "cell_type": "code",
   "execution_count": 38,
   "id": "b80046e3",
   "metadata": {},
   "outputs": [
    {
     "name": "stdout",
     "output_type": "stream",
     "text": [
      "Upper Limit is: 34.3263502725\n"
     ]
    }
   ],
   "source": [
    "print('Upper Limit is:',Upper_Limit)"
   ]
  },
  {
   "cell_type": "code",
   "execution_count": 39,
   "id": "2c815a19",
   "metadata": {},
   "outputs": [
    {
     "name": "stdout",
     "output_type": "stream",
     "text": [
      "Lower Limit is: 19.109087932499996\n"
     ]
    }
   ],
   "source": [
    "print('Lower Limit is:',Lower_Limit)"
   ]
  },
  {
   "cell_type": "code",
   "execution_count": 40,
   "id": "083715f4",
   "metadata": {},
   "outputs": [],
   "source": [
    "df_2 = df_1['BMI']"
   ]
  },
  {
   "cell_type": "code",
   "execution_count": 41,
   "id": "0dc6aebf",
   "metadata": {},
   "outputs": [],
   "source": [
    "outlier = []\n",
    "for x in df_2:\n",
    "    if (x>Upper_Limit) or (x<Lower_Limit):\n",
    "        outlier.append(x)"
   ]
  },
  {
   "cell_type": "code",
   "execution_count": 42,
   "id": "82d1801f",
   "metadata": {},
   "outputs": [
    {
     "name": "stdout",
     "output_type": "stream",
     "text": [
      "[]\n"
     ]
    }
   ],
   "source": [
    "print(outlier)"
   ]
  },
  {
   "cell_type": "code",
   "execution_count": 43,
   "id": "144b8937",
   "metadata": {},
   "outputs": [],
   "source": [
    "def outliers(df,field):\n",
    "    IQR = df[field].quantile(0.75) - df[field].quantile(0.25)\n",
    "    Upper_Limit = df[field].quantile(0.65) + 1.5 * IQR\n",
    "    Lower_Limit = df[field].quantile(0.25) - 1.5 * IQR\n",
    "    ls = df.index[(df[field]<Lower_Limit) | (df[field]>Upper_Limit)]\n",
    "    return ls\n",
    "\n",
    "index_list = []\n",
    "\n",
    "for feature in column:\n",
    "    index_list.extend(outliers(df_1,feature))"
   ]
  },
  {
   "cell_type": "code",
   "execution_count": 44,
   "id": "243d54bb",
   "metadata": {},
   "outputs": [
    {
     "data": {
      "text/plain": [
       "[37,\n",
       " 14,\n",
       " 17,\n",
       " 18,\n",
       " 19,\n",
       " 23,\n",
       " 28,\n",
       " 48,\n",
       " 49,\n",
       " 51,\n",
       " 52,\n",
       " 53,\n",
       " 54,\n",
       " 55,\n",
       " 64,\n",
       " 65,\n",
       " 67,\n",
       " 70,\n",
       " 73,\n",
       " 74,\n",
       " 75,\n",
       " 76,\n",
       " 80,\n",
       " 86,\n",
       " 87,\n",
       " 94,\n",
       " 95,\n",
       " 98,\n",
       " 72,\n",
       " 78,\n",
       " 90,\n",
       " 92,\n",
       " 93,\n",
       " 95,\n",
       " 96,\n",
       " 97,\n",
       " 98,\n",
       " 99,\n",
       " 101,\n",
       " 102,\n",
       " 106,\n",
       " 107,\n",
       " 109,\n",
       " 115,\n",
       " 118,\n",
       " 190,\n",
       " 195,\n",
       " 196,\n",
       " 202,\n",
       " 204,\n",
       " 206,\n",
       " 229,\n",
       " 236,\n",
       " 239,\n",
       " 251,\n",
       " 252,\n",
       " 253,\n",
       " 260,\n",
       " 263,\n",
       " 264,\n",
       " 265,\n",
       " 267,\n",
       " 268,\n",
       " 289,\n",
       " 291,\n",
       " 292,\n",
       " 293,\n",
       " 294,\n",
       " 295,\n",
       " 296,\n",
       " 298,\n",
       " 300,\n",
       " 301,\n",
       " 302,\n",
       " 303,\n",
       " 305,\n",
       " 307,\n",
       " 308,\n",
       " 309,\n",
       " 310,\n",
       " 313,\n",
       " 315,\n",
       " 318,\n",
       " 371,\n",
       " 376,\n",
       " 390,\n",
       " 393,\n",
       " 394,\n",
       " 395,\n",
       " 397,\n",
       " 399,\n",
       " 400,\n",
       " 401,\n",
       " 404,\n",
       " 407,\n",
       " 408,\n",
       " 409,\n",
       " 413,\n",
       " 420,\n",
       " 426,\n",
       " 428,\n",
       " 431,\n",
       " 432,\n",
       " 433,\n",
       " 435,\n",
       " 437,\n",
       " 438,\n",
       " 451,\n",
       " 453,\n",
       " 454,\n",
       " 455,\n",
       " 556,\n",
       " 592,\n",
       " 595,\n",
       " 597,\n",
       " 600,\n",
       " 602,\n",
       " 605,\n",
       " 614,\n",
       " 616,\n",
       " 617,\n",
       " 622,\n",
       " 624,\n",
       " 625,\n",
       " 626,\n",
       " 628,\n",
       " 630,\n",
       " 631,\n",
       " 633,\n",
       " 634,\n",
       " 635,\n",
       " 636,\n",
       " 637,\n",
       " 638,\n",
       " 639,\n",
       " 640,\n",
       " 642,\n",
       " 644,\n",
       " 645,\n",
       " 646,\n",
       " 648,\n",
       " 649,\n",
       " 650,\n",
       " 651,\n",
       " 653,\n",
       " 654,\n",
       " 655,\n",
       " 659,\n",
       " 660,\n",
       " 662,\n",
       " 664,\n",
       " 665,\n",
       " 666,\n",
       " 668,\n",
       " 669,\n",
       " 670,\n",
       " 671,\n",
       " 672,\n",
       " 673,\n",
       " 674,\n",
       " 675,\n",
       " 676,\n",
       " 685,\n",
       " 689,\n",
       " 701,\n",
       " 715,\n",
       " 730,\n",
       " 732,\n",
       " 733,\n",
       " 734,\n",
       " 735,\n",
       " 737,\n",
       " 738,\n",
       " 740,\n",
       " 741,\n",
       " 742,\n",
       " 743,\n",
       " 744,\n",
       " 747,\n",
       " 748,\n",
       " 749,\n",
       " 752,\n",
       " 753,\n",
       " 754,\n",
       " 756,\n",
       " 757,\n",
       " 758,\n",
       " 759,\n",
       " 765,\n",
       " 770,\n",
       " 771,\n",
       " 773,\n",
       " 774,\n",
       " 775,\n",
       " 776,\n",
       " 779,\n",
       " 780,\n",
       " 801,\n",
       " 803,\n",
       " 804,\n",
       " 805,\n",
       " 807,\n",
       " 808,\n",
       " 810,\n",
       " 811,\n",
       " 812,\n",
       " 813,\n",
       " 814,\n",
       " 815,\n",
       " 816,\n",
       " 817,\n",
       " 818,\n",
       " 819,\n",
       " 820,\n",
       " 821,\n",
       " 822,\n",
       " 823,\n",
       " 825,\n",
       " 826,\n",
       " 827,\n",
       " 828,\n",
       " 829,\n",
       " 831,\n",
       " 833,\n",
       " 836,\n",
       " 839,\n",
       " 840,\n",
       " 841,\n",
       " 842,\n",
       " 843,\n",
       " 844,\n",
       " 845,\n",
       " 846,\n",
       " 847,\n",
       " 848,\n",
       " 849,\n",
       " 852,\n",
       " 857,\n",
       " 864,\n",
       " 924,\n",
       " 930,\n",
       " 938,\n",
       " 944,\n",
       " 945,\n",
       " 947,\n",
       " 950,\n",
       " 951,\n",
       " 952,\n",
       " 957,\n",
       " 958,\n",
       " 966,\n",
       " 971,\n",
       " 980,\n",
       " 981,\n",
       " 982,\n",
       " 983,\n",
       " 986,\n",
       " 988,\n",
       " 991,\n",
       " 996,\n",
       " 17,\n",
       " 19,\n",
       " 28,\n",
       " 54,\n",
       " 64,\n",
       " 70,\n",
       " 73,\n",
       " 74,\n",
       " 76,\n",
       " 87,\n",
       " 98,\n",
       " 106,\n",
       " 196,\n",
       " 202,\n",
       " 301,\n",
       " 305,\n",
       " 400,\n",
       " 401,\n",
       " 408,\n",
       " 431,\n",
       " 433,\n",
       " 437,\n",
       " 732,\n",
       " 740,\n",
       " 741,\n",
       " 742,\n",
       " 743,\n",
       " 744,\n",
       " 745,\n",
       " 747,\n",
       " 748,\n",
       " 801,\n",
       " 804,\n",
       " 805,\n",
       " 810,\n",
       " 811,\n",
       " 812,\n",
       " 814,\n",
       " 817,\n",
       " 818,\n",
       " 819,\n",
       " 820,\n",
       " 823,\n",
       " 825,\n",
       " 826,\n",
       " 827,\n",
       " 828,\n",
       " 833,\n",
       " 836,\n",
       " 840,\n",
       " 841,\n",
       " 843,\n",
       " 844,\n",
       " 846,\n",
       " 847,\n",
       " 848,\n",
       " 857,\n",
       " 7,\n",
       " 50,\n",
       " 54,\n",
       " 57,\n",
       " 80,\n",
       " 89,\n",
       " 30,\n",
       " 31,\n",
       " 32,\n",
       " 33,\n",
       " 34,\n",
       " 35,\n",
       " 36,\n",
       " 37,\n",
       " 38,\n",
       " 39,\n",
       " 180,\n",
       " 181,\n",
       " 182,\n",
       " 183,\n",
       " 184,\n",
       " 185,\n",
       " 186,\n",
       " 187,\n",
       " 188,\n",
       " 189,\n",
       " 190,\n",
       " 191,\n",
       " 192,\n",
       " 193,\n",
       " 194,\n",
       " 195,\n",
       " 196,\n",
       " 197,\n",
       " 198,\n",
       " 199,\n",
       " 200,\n",
       " 201,\n",
       " 202,\n",
       " 203,\n",
       " 204,\n",
       " 205,\n",
       " 206,\n",
       " 207,\n",
       " 208,\n",
       " 209,\n",
       " 260,\n",
       " 261,\n",
       " 262,\n",
       " 263,\n",
       " 264,\n",
       " 265,\n",
       " 266,\n",
       " 267,\n",
       " 268,\n",
       " 269,\n",
       " 310,\n",
       " 311,\n",
       " 312,\n",
       " 313,\n",
       " 314,\n",
       " 315,\n",
       " 316,\n",
       " 317,\n",
       " 318,\n",
       " 319,\n",
       " 26,\n",
       " 40,\n",
       " 68,\n",
       " 70,\n",
       " 81,\n",
       " 87,\n",
       " 140,\n",
       " 141,\n",
       " 142,\n",
       " 143,\n",
       " 144,\n",
       " 145,\n",
       " 146,\n",
       " 147,\n",
       " 148,\n",
       " 149,\n",
       " 170,\n",
       " 171,\n",
       " 172,\n",
       " 173,\n",
       " 174,\n",
       " 175,\n",
       " 176,\n",
       " 177,\n",
       " 178,\n",
       " 179,\n",
       " 300,\n",
       " 301,\n",
       " 302,\n",
       " 303,\n",
       " 304,\n",
       " 305,\n",
       " 306,\n",
       " 307,\n",
       " 308,\n",
       " 309,\n",
       " 780,\n",
       " 781,\n",
       " 782,\n",
       " 783,\n",
       " 784,\n",
       " 785,\n",
       " 786,\n",
       " 787,\n",
       " 788,\n",
       " 789,\n",
       " 800,\n",
       " 801,\n",
       " 802,\n",
       " 803,\n",
       " 804,\n",
       " 805,\n",
       " 806,\n",
       " 807,\n",
       " 808,\n",
       " 809,\n",
       " 860,\n",
       " 861,\n",
       " 862,\n",
       " 863,\n",
       " 864,\n",
       " 865,\n",
       " 866,\n",
       " 867,\n",
       " 868,\n",
       " 869,\n",
       " 26,\n",
       " 40,\n",
       " 68,\n",
       " 87,\n",
       " 140,\n",
       " 141,\n",
       " 142,\n",
       " 143,\n",
       " 144,\n",
       " 145,\n",
       " 146,\n",
       " 147,\n",
       " 148,\n",
       " 149,\n",
       " 170,\n",
       " 171,\n",
       " 172,\n",
       " 173,\n",
       " 174,\n",
       " 175,\n",
       " 176,\n",
       " 177,\n",
       " 178,\n",
       " 179,\n",
       " 300,\n",
       " 301,\n",
       " 302,\n",
       " 303,\n",
       " 304,\n",
       " 305,\n",
       " 306,\n",
       " 307,\n",
       " 308,\n",
       " 309,\n",
       " 780,\n",
       " 781,\n",
       " 782,\n",
       " 783,\n",
       " 784,\n",
       " 785,\n",
       " 786,\n",
       " 787,\n",
       " 788,\n",
       " 789,\n",
       " 70,\n",
       " 81,\n",
       " 800,\n",
       " 801,\n",
       " 802,\n",
       " 803,\n",
       " 804,\n",
       " 805,\n",
       " 806,\n",
       " 807,\n",
       " 808,\n",
       " 809,\n",
       " 860,\n",
       " 861,\n",
       " 862,\n",
       " 863,\n",
       " 864,\n",
       " 865,\n",
       " 866,\n",
       " 867,\n",
       " 868,\n",
       " 869]"
      ]
     },
     "execution_count": 44,
     "metadata": {},
     "output_type": "execute_result"
    }
   ],
   "source": [
    "index_list"
   ]
  },
  {
   "cell_type": "code",
   "execution_count": 45,
   "id": "71efb92c",
   "metadata": {},
   "outputs": [],
   "source": [
    "def remove_outliers(df,ls):\n",
    "    ls = sorted(set(ls))\n",
    "    df = df.drop(ls)\n",
    "    return df"
   ]
  },
  {
   "cell_type": "code",
   "execution_count": 46,
   "id": "522dbfa5",
   "metadata": {},
   "outputs": [],
   "source": [
    "df_1 = remove_outliers(df_1,index_list)"
   ]
  },
  {
   "cell_type": "code",
   "execution_count": 47,
   "id": "d68fc5c1",
   "metadata": {},
   "outputs": [
    {
     "data": {
      "text/plain": [
       "(687, 12)"
      ]
     },
     "execution_count": 47,
     "metadata": {},
     "output_type": "execute_result"
    }
   ],
   "source": [
    "df_1.shape"
   ]
  },
  {
   "cell_type": "code",
   "execution_count": 48,
   "id": "a77fb8e6",
   "metadata": {},
   "outputs": [
    {
     "data": {
      "text/plain": [
       "(array([ 0,  1,  2,  3,  4,  5,  6,  7,  8,  9, 10, 11]),\n",
       " [Text(0, 0, 'Age'),\n",
       "  Text(1, 0, 'BMI'),\n",
       "  Text(2, 0, 'Position_Score'),\n",
       "  Text(3, 0, 'Effacement_Score'),\n",
       "  Text(4, 0, 'Dialation_Score'),\n",
       "  Text(5, 0, 'Station_Score'),\n",
       "  Text(6, 0, 'Total_Bishop_Score'),\n",
       "  Text(7, 0, 'Induction'),\n",
       "  Text(8, 0, 'Del_mode'),\n",
       "  Text(9, 0, 'Ob_Score_G1'),\n",
       "  Text(10, 0, 'Ob_Score_G2A1'),\n",
       "  Text(11, 0, 'Ob_Score_G3A2')])"
      ]
     },
     "execution_count": 48,
     "metadata": {},
     "output_type": "execute_result"
    },
    {
     "data": {
      "image/png": "[encoded data removed]",
      "text/plain": [
       "<Figure size 1440x1440 with 1 Axes>"
      ]
     },
     "metadata": {},
     "output_type": "display_data"
    }
   ],
   "source": [
    "plt.figure(figsize=(20,20)) \n",
    "sns.boxplot(data=df_1)\n",
    "plt.xticks(rotation=90)"
   ]
  },
  {
   "cell_type": "code",
   "execution_count": 49,
   "id": "9f641d59",
   "metadata": {},
   "outputs": [],
   "source": [
    "X = df_1.drop('Del_mode', axis = 1)\n",
    "Y = df_1['Del_mode']"
   ]
  },
  {
   "cell_type": "code",
   "execution_count": 50,
   "id": "57fefaee",
   "metadata": {},
   "outputs": [
    {
     "data": {
      "text/plain": [
       "(687, 11)"
      ]
     },
     "execution_count": 50,
     "metadata": {},
     "output_type": "execute_result"
    }
   ],
   "source": [
    "X.shape\n"
   ]
  },
  {
   "cell_type": "code",
   "execution_count": 51,
   "id": "d254ed3e",
   "metadata": {},
   "outputs": [
    {
     "data": {
      "text/plain": [
       "(687,)"
      ]
     },
     "execution_count": 51,
     "metadata": {},
     "output_type": "execute_result"
    }
   ],
   "source": [
    "Y.shape"
   ]
  },
  {
   "cell_type": "code",
   "execution_count": 52,
   "id": "844d3f92",
   "metadata": {},
   "outputs": [],
   "source": [
    "from sklearn.model_selection import train_test_split"
   ]
  },
  {
   "cell_type": "code",
   "execution_count": 53,
   "id": "205934c4",
   "metadata": {},
   "outputs": [],
   "source": [
    "X_train,X_test,Y_train,Y_test = train_test_split(X,Y,train_size = 0.8,stratify=Y,random_state = 12345)"
   ]
  },
  {
   "cell_type": "code",
   "execution_count": 54,
   "id": "2fa45ab0",
   "metadata": {},
   "outputs": [
    {
     "data": {
      "text/plain": [
       "(549, 11)"
      ]
     },
     "execution_count": 54,
     "metadata": {},
     "output_type": "execute_result"
    }
   ],
   "source": [
    "X_train.shape"
   ]
  },
  {
   "cell_type": "code",
   "execution_count": 55,
   "id": "496646c6",
   "metadata": {},
   "outputs": [
    {
     "data": {
      "text/plain": [
       "(138, 11)"
      ]
     },
     "execution_count": 55,
     "metadata": {},
     "output_type": "execute_result"
    }
   ],
   "source": [
    "X_test.shape"
   ]
  },
  {
   "cell_type": "code",
   "execution_count": 56,
   "id": "54cb82b8",
   "metadata": {},
   "outputs": [
    {
     "data": {
      "text/plain": [
       "(549,)"
      ]
     },
     "execution_count": 56,
     "metadata": {},
     "output_type": "execute_result"
    }
   ],
   "source": [
    "Y_train.shape"
   ]
  },
  {
   "cell_type": "code",
   "execution_count": 57,
   "id": "355e4844",
   "metadata": {},
   "outputs": [
    {
     "data": {
      "text/plain": [
       "(138,)"
      ]
     },
     "execution_count": 57,
     "metadata": {},
     "output_type": "execute_result"
    }
   ],
   "source": [
    "Y_test.shape"
   ]
  },
  {
   "cell_type": "code",
   "execution_count": 58,
   "id": "5cde5539",
   "metadata": {},
   "outputs": [],
   "source": [
    "from sklearn import preprocessing\n",
    "import matplotlib.pyplot as plt \n",
    "plt.rc(\"font\", size=14)\n",
    "from sklearn.linear_model import LogisticRegression\n",
    "sns.set(style=\"white\")\n",
    "sns.set(style=\"whitegrid\", color_codes=True)"
   ]
  },
  {
   "cell_type": "code",
   "execution_count": 59,
   "id": "d7783648",
   "metadata": {},
   "outputs": [
    {
     "name": "stderr",
     "output_type": "stream",
     "text": [
      "C:\\Users\\akhilesh rai\\anaconda3\\lib\\site-packages\\sklearn\\linear_model\\_logistic.py:814: ConvergenceWarning: lbfgs failed to converge (status=1):\n",
      "STOP: TOTAL NO. of ITERATIONS REACHED LIMIT.\n",
      "\n",
      "Increase the number of iterations (max_iter) or scale the data as shown in:\n",
      "    https://scikit-learn.org/stable/modules/preprocessing.html\n",
      "Please also refer to the documentation for alternative solver options:\n",
      "    https://scikit-learn.org/stable/modules/linear_model.html#logistic-regression\n",
      "  n_iter_i = _check_optimize_result(\n"
     ]
    },
    {
     "data": {
      "image/png": "[encoded data removed]",
      "text/plain": [
       "<Figure size 432x288 with 1 Axes>"
      ]
     },
     "metadata": {},
     "output_type": "display_data"
    },
    {
     "data": {
      "text/plain": [
       "0.7393790849673202"
      ]
     },
     "execution_count": 59,
     "metadata": {},
     "output_type": "execute_result"
    }
   ],
   "source": [
    "from sklearn.metrics import roc_auc_score\n",
    "from sklearn.metrics import roc_curve\n",
    "logreg = LogisticRegression()\n",
    "logreg.fit(X_train, Y_train)\n",
    "logit_roc_auc = roc_auc_score(Y_test, logreg.predict(X_test))\n",
    "fpr, tpr, thresholds = roc_curve(Y_test, logreg.predict_proba(X_test)[:,1])\n",
    "plt.figure()\n",
    "plt.plot(fpr, tpr, label='Logistic Regression (area = %0.2f)' % logit_roc_auc)\n",
    "plt.plot([0, 1], [0, 1],'r--')\n",
    "plt.xlim([0.0, 1.0])\n",
    "plt.ylim([0.0, 1.05])\n",
    "plt.show()\n",
    "logit_roc_auc"
   ]
  },
  {
   "cell_type": "code",
   "execution_count": 60,
   "id": "5b9abc53",
   "metadata": {},
   "outputs": [],
   "source": [
    "from sklearn.neighbors import KNeighborsClassifier\n",
    "from sklearn.metrics import accuracy_score"
   ]
  },
  {
   "cell_type": "code",
   "execution_count": 61,
   "id": "eb3329d5",
   "metadata": {},
   "outputs": [
    {
     "data": {
      "text/plain": [
       "KNeighborsClassifier(metric='euclidean', n_neighbors=8)"
      ]
     },
     "execution_count": 61,
     "metadata": {},
     "output_type": "execute_result"
    }
   ],
   "source": [
    "knn = KNeighborsClassifier(n_neighbors=8,metric='euclidean')\n",
    "knn.fit(X_train,Y_train)"
   ]
  },
  {
   "cell_type": "code",
   "execution_count": 62,
   "id": "e66071c8",
   "metadata": {},
   "outputs": [
    {
     "name": "stdout",
     "output_type": "stream",
     "text": [
      "Accuracy when k=1 = 0.9202898550724637\n",
      "Accuracy when k=2 = 0.9130434782608695\n",
      "Accuracy when k=3 = 0.927536231884058\n",
      "Accuracy when k=4 = 0.9492753623188406\n",
      "Accuracy when k=5 = 0.9420289855072463\n",
      "Accuracy when k=6 = 0.9492753623188406\n",
      "Accuracy when k=7 = 0.9565217391304348\n",
      "Accuracy when k=8 = 0.9347826086956522\n",
      "Accuracy when k=9 = 0.9347826086956522\n",
      "0.9565217391304348\n"
     ]
    }
   ],
   "source": [
    "import warnings\n",
    "warnings.filterwarnings(\"ignore\")\n",
    "b=[]\n",
    "\n",
    "for i in range(1,10):\n",
    "    knn = KNeighborsClassifier(n_neighbors=i,metric='euclidean')\n",
    "    knn.fit(X_train,Y_train)\n",
    "    Y_pred = knn.predict(X_test)\n",
    "    \n",
    "    a=accuracy_score(Y_test,Y_pred)\n",
    " \n",
    "    print(f\"Accuracy when k={i} = {a}\")\n",
    "   \n",
    "    b.append(accuracy_score(Y_test,Y_pred))\n",
    "   \n",
    "print(max(b)) "
   ]
  },
  {
   "cell_type": "code",
   "execution_count": 63,
   "id": "6654efb2",
   "metadata": {},
   "outputs": [
    {
     "name": "stdout",
     "output_type": "stream",
     "text": [
      "Accuracy when k=2 = 0.9599271402550091\n",
      "Accuracy when k=3 = 0.9489981785063752\n",
      "Accuracy when k=4 = 0.9471766848816029\n",
      "Accuracy when k=5 = 0.936247723132969\n",
      "Accuracy when k=6 = 0.9216757741347905\n",
      "Accuracy when k=7 = 0.9234972677595629\n",
      "Accuracy when k=8 = 0.907103825136612\n",
      "Accuracy when k=9 = 0.9016393442622951\n",
      "0.9599271402550091\n"
     ]
    }
   ],
   "source": [
    "import warnings\n",
    "warnings.filterwarnings(\"ignore\")\n",
    "c=[]\n",
    "for i in range(2,10):\n",
    "    knn = KNeighborsClassifier(n_neighbors=i,metric='euclidean')\n",
    "    knn.fit(X_train,Y_train)\n",
    "    Y_pred = knn.predict(X_train)\n",
    "    a=accuracy_score(Y_train,Y_pred)\n",
    "    print(f\"Accuracy when k={i} = {a}\")\n",
    "    c.append(accuracy_score(Y_train,Y_pred))\n",
    "print(max(c)) "
   ]
  },
  {
   "cell_type": "code",
   "execution_count": 64,
   "id": "82500591",
   "metadata": {},
   "outputs": [
    {
     "name": "stdout",
     "output_type": "stream",
     "text": [
      "Feature: 0, Score: 0.15836972343522562\n",
      "Feature: 1, Score: 0.1834061135371179\n",
      "Feature: 2, Score: 0.013100436681222715\n",
      "Feature: 3, Score: 0.0023289665211062792\n",
      "Feature: 4, Score: 0.020378457059679757\n",
      "Feature: 5, Score: 0.0\n",
      "Feature: 6, Score: 0.05822416302765647\n",
      "Feature: 7, Score: 0.0\n",
      "Feature: 8, Score: 0.0\n",
      "Feature: 9, Score: 0.0\n",
      "Feature: 10, Score: 0.0\n"
     ]
    },
    {
     "data": {
      "image/png": "[encoded data removed]",
      "text/plain": [
       "<Figure size 432x288 with 1 Axes>"
      ]
     },
     "metadata": {},
     "output_type": "display_data"
    }
   ],
   "source": [
    "from sklearn.inspection import permutation_importance\n",
    "results = permutation_importance(knn, X, Y, scoring='accuracy')\n",
    "importance = results.importances_mean\n",
    "\n",
    "for i,v in enumerate(importance):\n",
    "    print(f'Feature: {i}, Score: {v}')\n",
    "\n",
    "plt.bar([x for x in range(len(importance))], importance)\n",
    "plt.show()"
   ]
  },
  {
   "cell_type": "code",
   "execution_count": 65,
   "id": "79e9fc66",
   "metadata": {},
   "outputs": [
    {
     "name": "stdout",
     "output_type": "stream",
     "text": [
      "Feature: 0, Score: 0.16098981077147018\n",
      "Feature: 1, Score: 0.18748180494905384\n",
      "Feature: 2, Score: 0.007569141193595352\n",
      "Feature: 3, Score: 0.0011644832605531396\n",
      "Feature: 4, Score: 0.020378457059679757\n",
      "Feature: 5, Score: 0.0\n",
      "Feature: 6, Score: 0.05997088791848617\n",
      "Feature: 7, Score: 0.0\n",
      "Feature: 8, Score: 0.0\n",
      "Feature: 9, Score: 0.0\n",
      "Feature: 10, Score: 0.0\n"
     ]
    },
    {
     "data": {
      "image/png": "[encoded data removed]",
      "text/plain": [
       "<Figure size 432x288 with 1 Axes>"
      ]
     },
     "metadata": {},
     "output_type": "display_data"
    }
   ],
   "source": [
    "from sklearn.inspection import permutation_importance\n",
    "results = permutation_importance(knn, X, Y, scoring='accuracy')\n",
    "importance = results.importances_mean\n",
    "\n",
    "for i,v in enumerate(importance):\n",
    "    print(f'Feature: {i}, Score: {v}')\n",
    "\n",
    "plt.bar([x for x in range(len(importance))], importance)\n",
    "plt.show()"
   ]
  },
  {
   "cell_type": "code",
   "execution_count": 66,
   "id": "e4958463",
   "metadata": {},
   "outputs": [],
   "source": [
    "from sklearn.linear_model import RidgeClassifier\n",
    "from sklearn.metrics import confusion_matrix, accuracy_score, log_loss\n",
    "from sklearn.model_selection import GridSearchCV\n",
    "from sklearn.datasets import make_classification\n",
    "from sklearn.model_selection import cross_val_score\n",
    "from sklearn.metrics import confusion_matrix\n",
    "from sklearn.metrics import classification_report"
   ]
  },
  {
   "cell_type": "code",
   "execution_count": 67,
   "id": "799d9ca5",
   "metadata": {},
   "outputs": [
    {
     "name": "stdout",
     "output_type": "stream",
     "text": [
      "RidgeClassifier()\n",
      "Score:  0.7577413479052824\n",
      "CV average score: 0.75\n",
      "[[101   1]\n",
      " [ 26  10]]\n",
      "              precision    recall  f1-score   support\n",
      "\n",
      "           0       0.80      0.99      0.88       102\n",
      "           1       0.91      0.28      0.43        36\n",
      "\n",
      "    accuracy                           0.80       138\n",
      "   macro avg       0.85      0.63      0.65       138\n",
      "weighted avg       0.82      0.80      0.76       138\n",
      "\n"
     ]
    }
   ],
   "source": [
    "rc = RidgeClassifier()\n",
    "print(rc)\n",
    "\n",
    "rc.fit(X_train, Y_train)\n",
    "score = rc.score(X_train, Y_train)\n",
    "print(\"Score: \", score)\n",
    "\n",
    "cv_scores = cross_val_score(rc, X_train, Y_train, cv=10)\n",
    "print(\"CV average score: %.2f\" % cv_scores.mean())\n",
    "\n",
    "Y_pred = rc.predict(X_test)\n",
    "\n",
    "cm = confusion_matrix(Y_test, Y_pred)\n",
    "print(cm)\n",
    "\n",
    "cr = classification_report(Y_test, Y_pred)\n",
    "print(cr) "
   ]
  },
  {
   "cell_type": "code",
   "execution_count": 68,
   "id": "70a9668a",
   "metadata": {},
   "outputs": [],
   "source": [
    "from numpy import loadtxt\n",
    "from xgboost import XGBClassifier\n",
    "from sklearn.model_selection import train_test_split\n",
    "from sklearn.metrics import accuracy_score"
   ]
  },
  {
   "cell_type": "code",
   "execution_count": 69,
   "id": "f6f56ec4",
   "metadata": {},
   "outputs": [
    {
     "data": {
      "text/plain": [
       "XGBClassifier(base_score=0.5, booster='gbtree', callbacks=None,\n",
       "              colsample_bylevel=1, colsample_bynode=1, colsample_bytree=1,\n",
       "              early_stopping_rounds=None, enable_categorical=False,\n",
       "              eval_metric=None, gamma=0, gpu_id=-1, grow_policy='depthwise',\n",
       "              importance_type=None, interaction_constraints='',\n",
       "              learning_rate=0.300000012, max_bin=256, max_cat_to_onehot=4,\n",
       "              max_delta_step=0, max_depth=6, max_leaves=0, min_child_weight=1,\n",
       "              missing=nan, monotone_constraints='()', n_estimators=100,\n",
       "              n_jobs=0, num_parallel_tree=1, predictor='auto', random_state=0,\n",
       "              reg_alpha=0, reg_lambda=1, ...)"
      ]
     },
     "execution_count": 69,
     "metadata": {},
     "output_type": "execute_result"
    }
   ],
   "source": [
    "XGB = XGBClassifier()\n",
    "XGB.fit(X_train, Y_train)"
   ]
  },
  {
   "cell_type": "code",
   "execution_count": 70,
   "id": "dc0fc408",
   "metadata": {},
   "outputs": [],
   "source": [
    "Y_pred = XGB.predict(X_test)\n",
    "predictions = [round(value) for value in Y_pred]"
   ]
  },
  {
   "cell_type": "code",
   "execution_count": 71,
   "id": "f2c6a890",
   "metadata": {},
   "outputs": [
    {
     "name": "stdout",
     "output_type": "stream",
     "text": [
      "Accuracy: 92.75%\n"
     ]
    }
   ],
   "source": [
    "accuracy = accuracy_score(Y_test, predictions)\n",
    "print(\"Accuracy: %.2f%%\" % (accuracy * 100.0))"
   ]
  },
  {
   "cell_type": "code",
   "execution_count": 72,
   "id": "fc12420b",
   "metadata": {},
   "outputs": [],
   "source": [
    "Y_pred = XGB.predict(X_train)\n",
    "predictions = [round(value) for value in Y_pred]"
   ]
  },
  {
   "cell_type": "code",
   "execution_count": 73,
   "id": "f0ff72b7",
   "metadata": {},
   "outputs": [
    {
     "name": "stdout",
     "output_type": "stream",
     "text": [
      "Accuracy: 99.82%\n"
     ]
    }
   ],
   "source": [
    "accuracy = accuracy_score(Y_train, predictions)\n",
    "print(\"Accuracy: %.2f%%\" % (accuracy * 100.0))"
   ]
  },
  {
   "cell_type": "code",
   "execution_count": 74,
   "id": "a88e9637",
   "metadata": {},
   "outputs": [],
   "source": [
    "from sklearn.ensemble import AdaBoostClassifier"
   ]
  },
  {
   "cell_type": "code",
   "execution_count": 75,
   "id": "75b5183e",
   "metadata": {},
   "outputs": [
    {
     "name": "stdout",
     "output_type": "stream",
     "text": [
      "Accuracy: 0.7391304347826086\n"
     ]
    }
   ],
   "source": [
    "# Import Support Vector Classifier\n",
    "from sklearn.svm import SVC\n",
    "#Import scikit-learn metrics module for accuracy calculation\n",
    "from sklearn import metrics\n",
    "svc=SVC(probability=True, kernel='linear')\n",
    "\n",
    "# Create adaboost classifer object\n",
    "abc =AdaBoostClassifier(n_estimators=50, base_estimator=svc,learning_rate=1)\n",
    "\n",
    "# Train Adaboost Classifer\n",
    "model = abc.fit(X_train, Y_train)\n",
    "\n",
    "#Predict the response for test dataset\n",
    "Y_pred = model.predict(X_test)\n",
    "\n",
    "\n",
    "# Model Accuracy, how often is the classifier correct?\n",
    "print(\"Accuracy:\",metrics.accuracy_score(Y_test, Y_pred))"
   ]
  },
  {
   "cell_type": "code",
   "execution_count": 76,
   "id": "793eff01",
   "metadata": {},
   "outputs": [],
   "source": [
    "# Create adaboost classifer object\n",
    "abc = AdaBoostClassifier(n_estimators=50,\n",
    "                         learning_rate=1)\n",
    "# Train Adaboost Classifer\n",
    "ADA = abc.fit(X_train, Y_train)\n",
    "\n",
    "#Predict the response for test dataset\n",
    "Y_pred = ADA.predict(X_test)"
   ]
  },
  {
   "cell_type": "code",
   "execution_count": 77,
   "id": "2c4ef2a8",
   "metadata": {},
   "outputs": [
    {
     "name": "stdout",
     "output_type": "stream",
     "text": [
      "Accuracy: 0.8623188405797102\n"
     ]
    }
   ],
   "source": [
    "print(\"Accuracy:\",metrics.accuracy_score(Y_test, Y_pred))"
   ]
  },
  {
   "cell_type": "code",
   "execution_count": 78,
   "id": "4ae0e825",
   "metadata": {},
   "outputs": [],
   "source": [
    "# Split dataset into training set and test set\n",
    "X_train, X_test, Y_train, Y_test = train_test_split(X,Y, test_size=0.1,random_state=500)"
   ]
  },
  {
   "cell_type": "code",
   "execution_count": 79,
   "id": "466673a6",
   "metadata": {},
   "outputs": [],
   "source": [
    "#Import svm model\n",
    "from sklearn import svm\n",
    "\n",
    "#Create a svm Classifier\n",
    "clf = svm.SVC(kernel='linear') # Linear Kernel\n",
    "\n",
    "#Train the model using the training sets\n",
    "clf.fit(X_train, Y_train)\n",
    "\n",
    "#Predict the response for test dataset\n",
    "Y_pred = clf.predict(X_test)\n",
    "\n"
   ]
  },
  {
   "cell_type": "code",
   "execution_count": 80,
   "id": "da3c22c3",
   "metadata": {},
   "outputs": [
    {
     "name": "stdout",
     "output_type": "stream",
     "text": [
      "Accuracy: 0.8405797101449275\n"
     ]
    }
   ],
   "source": [
    "# Model Accuracy: how often is the classifier correct?\n",
    "print(\"Accuracy:\",metrics.accuracy_score(Y_test, Y_pred))"
   ]
  },
  {
   "cell_type": "code",
   "execution_count": 81,
   "id": "499dae2c",
   "metadata": {},
   "outputs": [
    {
     "name": "stdout",
     "output_type": "stream",
     "text": [
      "Precision: 0.6\n",
      "Recall: 0.46153846153846156\n"
     ]
    }
   ],
   "source": [
    "print(\"Precision:\",metrics.precision_score(Y_test, Y_pred))\n",
    "\n",
    "print(\"Recall:\",metrics.recall_score(Y_test, Y_pred))"
   ]
  },
  {
   "cell_type": "code",
   "execution_count": 82,
   "id": "4c9194f0",
   "metadata": {},
   "outputs": [],
   "source": [
    "from sklearn.ensemble import RandomForestClassifier\n",
    "naive_rfc = RandomForestClassifier()\n",
    "naive_rfc.fit(X_train, Y_train)\n",
    "naive_test_preds = naive_rfc.predict(X_test)"
   ]
  },
  {
   "cell_type": "code",
   "execution_count": 83,
   "id": "6dc9b3f3",
   "metadata": {},
   "outputs": [],
   "source": [
    "from sklearn.metrics import precision_score\n",
    "from sklearn.metrics import recall_score"
   ]
  },
  {
   "cell_type": "code",
   "execution_count": 84,
   "id": "2fb7905d",
   "metadata": {},
   "outputs": [
    {
     "name": "stdout",
     "output_type": "stream",
     "text": [
      "The accuracy is 0.9565217391304348\n",
      "The precision is 0.9166666666666666\n",
      "The recall is 0.8461538461538461\n"
     ]
    }
   ],
   "source": [
    "print(\"The accuracy is {}\".format(accuracy_score(Y_test, naive_test_preds)))\n",
    "print(\"The precision is {}\".format(precision_score(Y_test, naive_test_preds)))\n",
    "print(\"The recall is {}\".format(recall_score(Y_test, naive_test_preds)))"
   ]
  },
  {
   "cell_type": "code",
   "execution_count": 85,
   "id": "65df5d73",
   "metadata": {},
   "outputs": [],
   "source": [
    "from sklearn.model_selection import GridSearchCV"
   ]
  },
  {
   "cell_type": "code",
   "execution_count": 86,
   "id": "56eab107",
   "metadata": {},
   "outputs": [],
   "source": [
    "def print_results(results):\n",
    "    print('Best Param:{}\\n'.format(results.best_params_))\n",
    "    \n",
    "    means = results.cv_results_['mean_test_score']\n",
    "    stds = results.cv_results_['std_test_score']\n",
    "    \n",
    "    for means,stds,params in zip(means,stds,results.cv_results_['params']):\n",
    "        print('{}(+/-{} for {})'.format(round(means,3),round(stds*2,3),params))"
   ]
  },
  {
   "cell_type": "code",
   "execution_count": 87,
   "id": "73589173",
   "metadata": {},
   "outputs": [
    {
     "name": "stdout",
     "output_type": "stream",
     "text": [
      "Best Param:{'n_estimators': 100}\n",
      "\n",
      "0.932(+/-0.075 for {'n_estimators': 50})\n",
      "0.939(+/-0.068 for {'n_estimators': 100})\n",
      "0.935(+/-0.079 for {'n_estimators': 300})\n",
      "0.937(+/-0.073 for {'n_estimators': 400})\n"
     ]
    }
   ],
   "source": [
    "rf = RandomForestClassifier(oob_score = True)\n",
    "parameters = {'n_estimators':[50,100,300,400],}\n",
    "cv = GridSearchCV(rf,parameters,cv=11)\n",
    "cv.fit(X_train, Y_train.values.ravel())\n",
    "print_results(cv)"
   ]
  },
  {
   "cell_type": "code",
   "execution_count": 88,
   "id": "70b473de",
   "metadata": {},
   "outputs": [
    {
     "data": {
      "text/plain": [
       "0.9565217391304348"
      ]
     },
     "execution_count": 88,
     "metadata": {},
     "output_type": "execute_result"
    }
   ],
   "source": [
    "cv.score(X_test,Y_test)"
   ]
  },
  {
   "cell_type": "code",
   "execution_count": 89,
   "id": "204ed095",
   "metadata": {},
   "outputs": [
    {
     "data": {
      "text/plain": [
       "1.0"
      ]
     },
     "execution_count": 89,
     "metadata": {},
     "output_type": "execute_result"
    }
   ],
   "source": [
    "cv.score(X_train,Y_train)"
   ]
  },
  {
   "cell_type": "code",
   "execution_count": 90,
   "id": "2f4b4470",
   "metadata": {},
   "outputs": [
    {
     "data": {
      "text/plain": [
       "RandomForestClassifier(n_estimators=400)"
      ]
     },
     "execution_count": 90,
     "metadata": {},
     "output_type": "execute_result"
    }
   ],
   "source": [
    "rf = RandomForestClassifier(n_estimators = 400)\n",
    "rf.fit(X_train, Y_train)"
   ]
  },
  {
   "cell_type": "code",
   "execution_count": 91,
   "id": "6e1f08b7",
   "metadata": {},
   "outputs": [
    {
     "name": "stdout",
     "output_type": "stream",
     "text": [
      "Train Accuracy : 1.0\n",
      "Test Accuracy : 0.9565217391304348\n"
     ]
    }
   ],
   "source": [
    "print(\"Train Accuracy :\",rf.score(X_train, Y_train))\n",
    "print(\"Test Accuracy :\",rf.score(X_test, Y_test))"
   ]
  },
  {
   "cell_type": "code",
   "execution_count": 92,
   "id": "2681c6d6",
   "metadata": {},
   "outputs": [],
   "source": [
    "y_pred_test = rf.predict(X_test)"
   ]
  },
  {
   "cell_type": "code",
   "execution_count": 93,
   "id": "9c80b262",
   "metadata": {},
   "outputs": [],
   "source": [
    "y_pred_test = rf.predict(X_test)"
   ]
  },
  {
   "cell_type": "code",
   "execution_count": 94,
   "id": "ebcb4b1f",
   "metadata": {},
   "outputs": [
    {
     "name": "stdout",
     "output_type": "stream",
     "text": [
      "              precision    recall  f1-score   support\n",
      "\n",
      "           0       0.88      0.93      0.90        56\n",
      "           1       0.60      0.46      0.52        13\n",
      "\n",
      "    accuracy                           0.84        69\n",
      "   macro avg       0.74      0.70      0.71        69\n",
      "weighted avg       0.83      0.84      0.83        69\n",
      "\n"
     ]
    }
   ],
   "source": [
    "print(classification_report(Y_test, Y_pred))"
   ]
  },
  {
   "cell_type": "code",
   "execution_count": 95,
   "id": "a9d73dd8",
   "metadata": {},
   "outputs": [],
   "source": [
    "from sklearn.linear_model import Lasso\n",
    "from sklearn.metrics import mean_squared_error\n",
    "from sklearn.metrics import r2_score\n",
    "model_lasso = Lasso(alpha=0.01)\n",
    "model_lasso.fit(X_train, Y_train) \n",
    "pred_train_lasso= model_lasso.predict(X_train)\n",
    "pred_test_lasso= model_lasso.predict(X_test) "
   ]
  },
  {
   "cell_type": "code",
   "execution_count": 96,
   "id": "78912b49",
   "metadata": {},
   "outputs": [
    {
     "name": "stdout",
     "output_type": "stream",
     "text": [
      "0.39799439273250303\n"
     ]
    }
   ],
   "source": [
    "print(np.sqrt(mean_squared_error(Y_train,pred_train_lasso)))"
   ]
  },
  {
   "cell_type": "code",
   "execution_count": 97,
   "id": "b31fcacc",
   "metadata": {},
   "outputs": [
    {
     "name": "stdout",
     "output_type": "stream",
     "text": [
      "0.1937228831140958\n"
     ]
    }
   ],
   "source": [
    "print(r2_score(Y_train, pred_train_lasso))"
   ]
  },
  {
   "cell_type": "code",
   "execution_count": 98,
   "id": "0e877ddb",
   "metadata": {},
   "outputs": [
    {
     "name": "stdout",
     "output_type": "stream",
     "text": [
      "0.3911687731446352\n"
     ]
    }
   ],
   "source": [
    "print(np.sqrt(mean_squared_error(Y_test,pred_test_lasso)))"
   ]
  }
 ],
 "metadata": {
  "kernelspec": {
   "display_name": "Python 3 (ipykernel)",
   "language": "python",
   "name": "python3"
  },
  "language_info": {
   "codemirror_mode": {
    "name": "ipython",
    "version": 3
   },
   "file_extension": ".py",
   "mimetype": "text/x-python",
   "name": "python",
   "nbconvert_exporter": "python",
   "pygments_lexer": "ipython3",
   "version": "3.9.12"
  }
 },
 "nbformat": 4,
 "nbformat_minor": 5
}
